{
 "cells": [
  {
   "cell_type": "markdown",
   "metadata": {},
   "source": [
    "# ÖRNEK TEORİSİ - ÖRNEKLEM DAĞILIMI"
   ]
  },
  {
   "cell_type": "markdown",
   "metadata": {},
   "source": [
    "Bir popülasyon içerisinden popülasyonu temsil ettiği düşünülen alt küme seçme işlemi örneklemdir. Olasılıksal ve olasılıksal olmayan olarak ikiye ayrılır. Birden fazla örneklem çektiğimizde örneklemlerin dağılımı konusu önem taşımaktadır."
   ]
  },
  {
   "cell_type": "code",
   "execution_count": 1,
   "metadata": {
    "ExecuteTime": {
     "end_time": "2020-06-13T16:00:20.853197Z",
     "start_time": "2020-06-13T16:00:20.686642Z"
    }
   },
   "outputs": [],
   "source": [
    "import numpy as np"
   ]
  },
  {
   "cell_type": "markdown",
   "metadata": {},
   "source": [
    "20 ile 50 yaş arasında 20000 kişiden oluşan bir popülasyonumuz olduğunu düşünelim."
   ]
  },
  {
   "cell_type": "code",
   "execution_count": 2,
   "metadata": {
    "ExecuteTime": {
     "end_time": "2020-06-13T16:00:20.861175Z",
     "start_time": "2020-06-13T16:00:20.856189Z"
    }
   },
   "outputs": [],
   "source": [
    "populasyon=np.random.randint(20,50,20000)"
   ]
  },
  {
   "cell_type": "code",
   "execution_count": 3,
   "metadata": {
    "ExecuteTime": {
     "end_time": "2020-06-13T16:00:20.885112Z",
     "start_time": "2020-06-13T16:00:20.864167Z"
    }
   },
   "outputs": [
    {
     "data": {
      "text/plain": [
       "array([21, 41, 41, 40, 39, 31, 33, 43, 25, 45, 31, 41, 45, 24, 35, 23, 20,\n",
       "       48, 34, 33])"
      ]
     },
     "execution_count": 3,
     "metadata": {},
     "output_type": "execute_result"
    }
   ],
   "source": [
    "populasyon[:20]"
   ]
  },
  {
   "cell_type": "markdown",
   "metadata": {},
   "source": [
    "Popülasyon içerisinden 1000 gözlem seçerek örneklem oluşturalım."
   ]
  },
  {
   "cell_type": "code",
   "execution_count": 4,
   "metadata": {
    "ExecuteTime": {
     "end_time": "2020-06-13T16:00:20.893090Z",
     "start_time": "2020-06-13T16:00:20.888102Z"
    }
   },
   "outputs": [],
   "source": [
    "np.random.seed(12345)\n",
    "orneklem=np.random.choice(populasyon,size=1000)"
   ]
  },
  {
   "cell_type": "code",
   "execution_count": 5,
   "metadata": {
    "ExecuteTime": {
     "end_time": "2020-06-13T16:00:20.905058Z",
     "start_time": "2020-06-13T16:00:20.896082Z"
    }
   },
   "outputs": [
    {
     "name": "stdout",
     "output_type": "stream",
     "text": [
      "Popülasyon Ortalaması: 34.4385 \n",
      "Örneklem Ortalaması: 34.489\n"
     ]
    }
   ],
   "source": [
    "print(\"Popülasyon Ortalaması:\",populasyon.mean(),\"\\nÖrneklem Ortalaması:\",orneklem.mean())"
   ]
  },
  {
   "cell_type": "markdown",
   "metadata": {},
   "source": [
    "Şimdi farklı örneklemler çekerek bu örneklemlerin ortalamalarını inceleyelim."
   ]
  },
  {
   "cell_type": "code",
   "execution_count": 6,
   "metadata": {
    "ExecuteTime": {
     "end_time": "2020-06-13T16:00:20.919021Z",
     "start_time": "2020-06-13T16:00:20.907052Z"
    }
   },
   "outputs": [],
   "source": [
    "np.random.seed(10)\n",
    "orneklem1=np.random.choice(populasyon,1000)\n",
    "orneklem2=np.random.choice(populasyon,1000)\n",
    "orneklem3=np.random.choice(populasyon,1000)\n",
    "orneklem4=np.random.choice(populasyon,1000)\n",
    "orneklem5=np.random.choice(populasyon,1000)\n",
    "orneklem6=np.random.choice(populasyon,1000)\n",
    "orneklem7=np.random.choice(populasyon,1000)\n",
    "orneklem8=np.random.choice(populasyon,1000)\n",
    "orneklem9=np.random.choice(populasyon,1000)\n",
    "orneklem10=np.random.choice(populasyon,1000)\n"
   ]
  },
  {
   "cell_type": "code",
   "execution_count": 7,
   "metadata": {
    "ExecuteTime": {
     "end_time": "2020-06-13T16:00:20.928003Z",
     "start_time": "2020-06-13T16:00:20.921014Z"
    }
   },
   "outputs": [
    {
     "name": "stdout",
     "output_type": "stream",
     "text": [
      "5 Örneklemin Ortalaması 34.563599999999994\n"
     ]
    }
   ],
   "source": [
    "print(\"5 Örneklemin Ortalaması\",(orneklem1.mean() + orneklem2.mean() + orneklem3.mean() + orneklem4.mean() + orneklem5.mean())/5)"
   ]
  },
  {
   "cell_type": "code",
   "execution_count": 8,
   "metadata": {
    "ExecuteTime": {
     "end_time": "2020-06-13T16:00:20.940961Z",
     "start_time": "2020-06-13T16:00:20.932983Z"
    }
   },
   "outputs": [
    {
     "name": "stdout",
     "output_type": "stream",
     "text": [
      "Tüm Örneklemlerin Ortalaması : 34.5198\n"
     ]
    }
   ],
   "source": [
    "print(\"Tüm Örneklemlerin Ortalaması :\",(orneklem1.mean() + orneklem2.mean() + orneklem3.mean() + orneklem4.mean() + orneklem5.mean() \n",
    "+ orneklem6.mean() + orneklem7.mean() + orneklem8.mean() + orneklem9.mean() + orneklem10.mean())/10)"
   ]
  },
  {
   "cell_type": "markdown",
   "metadata": {},
   "source": [
    "Daha fazla örneklem çekilip ortalaması alındığında örneklemlerin ortalamasının popülasyonun ortalamasına daha yakın olması beklenir."
   ]
  },
  {
   "cell_type": "markdown",
   "metadata": {},
   "source": [
    "# BETİMSEL İSTATİSTİKLER"
   ]
  },
  {
   "cell_type": "markdown",
   "metadata": {},
   "source": [
    "* **Ortalama** : Orta konumu tek bir sayı ile ifade eder.\n",
    "* **Medyan** :Bir anakütle ya da örneklem veri serisini küçükten büyüğe doğru sıraladığımızda, seriyi ortadan ikiye ayıran değerdir.\n",
    "* **Mod** : Bir veri kümesi içinde en sık görülen değerdir.\n",
    "* **Kartiller** : Bir seriyi dört eşit parçaya bölen değerlerdir.\n",
    "* **Değişim Aralığı** : Gözlem değerleri küçükten büyüğe doğru sıralanarak bir dizi oluşturulduğunda, en büyük değerle en küçük değer arasındaki fark\n",
    "* **Standart Sapma** :  Bir anakütle, bir örneklem, bir olasılık dağılımı veya bir rassal değişken, veri değerlerinin yayılımının özetlenmesi için kullanılan bir ölçüdür.\n",
    "* **Kovaryans**: İki değişken arasındaki ilişkinin değişkenliğiyle ilgilenir.\n",
    "* **Korelasyon**: İki değişken arasındaki ikişkiyi,anlamlı olup olmadığını,ilişkinin şiddetini ve yönünü ifade eder.\n"
   ]
  },
  {
   "cell_type": "code",
   "execution_count": 70,
   "metadata": {
    "ExecuteTime": {
     "end_time": "2020-06-14T11:19:42.975710Z",
     "start_time": "2020-06-14T11:19:42.816138Z"
    }
   },
   "outputs": [
    {
     "data": {
      "text/html": [
       "<div>\n",
       "<style scoped>\n",
       "    .dataframe tbody tr th:only-of-type {\n",
       "        vertical-align: middle;\n",
       "    }\n",
       "\n",
       "    .dataframe tbody tr th {\n",
       "        vertical-align: top;\n",
       "    }\n",
       "\n",
       "    .dataframe thead th {\n",
       "        text-align: right;\n",
       "    }\n",
       "</style>\n",
       "<table border=\"1\" class=\"dataframe\">\n",
       "  <thead>\n",
       "    <tr style=\"text-align: right;\">\n",
       "      <th></th>\n",
       "      <th>age</th>\n",
       "      <th>workclass</th>\n",
       "      <th>fnlwgt</th>\n",
       "      <th>education</th>\n",
       "      <th>educational-num</th>\n",
       "      <th>marital-status</th>\n",
       "      <th>occupation</th>\n",
       "      <th>relationship</th>\n",
       "      <th>race</th>\n",
       "      <th>gender</th>\n",
       "      <th>capital-gain</th>\n",
       "      <th>capital-loss</th>\n",
       "      <th>hours-per-week</th>\n",
       "      <th>native-country</th>\n",
       "      <th>income</th>\n",
       "    </tr>\n",
       "  </thead>\n",
       "  <tbody>\n",
       "    <tr>\n",
       "      <td>0</td>\n",
       "      <td>25</td>\n",
       "      <td>Private</td>\n",
       "      <td>226802</td>\n",
       "      <td>11th</td>\n",
       "      <td>7</td>\n",
       "      <td>Never-married</td>\n",
       "      <td>Machine-op-inspct</td>\n",
       "      <td>Own-child</td>\n",
       "      <td>Black</td>\n",
       "      <td>Male</td>\n",
       "      <td>0</td>\n",
       "      <td>0</td>\n",
       "      <td>40</td>\n",
       "      <td>United-States</td>\n",
       "      <td>&lt;=50K</td>\n",
       "    </tr>\n",
       "    <tr>\n",
       "      <td>1</td>\n",
       "      <td>38</td>\n",
       "      <td>Private</td>\n",
       "      <td>89814</td>\n",
       "      <td>HS-grad</td>\n",
       "      <td>9</td>\n",
       "      <td>Married-civ-spouse</td>\n",
       "      <td>Farming-fishing</td>\n",
       "      <td>Husband</td>\n",
       "      <td>White</td>\n",
       "      <td>Male</td>\n",
       "      <td>0</td>\n",
       "      <td>0</td>\n",
       "      <td>50</td>\n",
       "      <td>United-States</td>\n",
       "      <td>&lt;=50K</td>\n",
       "    </tr>\n",
       "    <tr>\n",
       "      <td>2</td>\n",
       "      <td>28</td>\n",
       "      <td>Local-gov</td>\n",
       "      <td>336951</td>\n",
       "      <td>Assoc-acdm</td>\n",
       "      <td>12</td>\n",
       "      <td>Married-civ-spouse</td>\n",
       "      <td>Protective-serv</td>\n",
       "      <td>Husband</td>\n",
       "      <td>White</td>\n",
       "      <td>Male</td>\n",
       "      <td>0</td>\n",
       "      <td>0</td>\n",
       "      <td>40</td>\n",
       "      <td>United-States</td>\n",
       "      <td>&gt;50K</td>\n",
       "    </tr>\n",
       "    <tr>\n",
       "      <td>3</td>\n",
       "      <td>44</td>\n",
       "      <td>Private</td>\n",
       "      <td>160323</td>\n",
       "      <td>Some-college</td>\n",
       "      <td>10</td>\n",
       "      <td>Married-civ-spouse</td>\n",
       "      <td>Machine-op-inspct</td>\n",
       "      <td>Husband</td>\n",
       "      <td>Black</td>\n",
       "      <td>Male</td>\n",
       "      <td>7688</td>\n",
       "      <td>0</td>\n",
       "      <td>40</td>\n",
       "      <td>United-States</td>\n",
       "      <td>&gt;50K</td>\n",
       "    </tr>\n",
       "    <tr>\n",
       "      <td>4</td>\n",
       "      <td>18</td>\n",
       "      <td>?</td>\n",
       "      <td>103497</td>\n",
       "      <td>Some-college</td>\n",
       "      <td>10</td>\n",
       "      <td>Never-married</td>\n",
       "      <td>?</td>\n",
       "      <td>Own-child</td>\n",
       "      <td>White</td>\n",
       "      <td>Female</td>\n",
       "      <td>0</td>\n",
       "      <td>0</td>\n",
       "      <td>30</td>\n",
       "      <td>United-States</td>\n",
       "      <td>&lt;=50K</td>\n",
       "    </tr>\n",
       "  </tbody>\n",
       "</table>\n",
       "</div>"
      ],
      "text/plain": [
       "   age  workclass  fnlwgt     education  educational-num      marital-status  \\\n",
       "0   25    Private  226802          11th                7       Never-married   \n",
       "1   38    Private   89814       HS-grad                9  Married-civ-spouse   \n",
       "2   28  Local-gov  336951    Assoc-acdm               12  Married-civ-spouse   \n",
       "3   44    Private  160323  Some-college               10  Married-civ-spouse   \n",
       "4   18          ?  103497  Some-college               10       Never-married   \n",
       "\n",
       "          occupation relationship   race  gender  capital-gain  capital-loss  \\\n",
       "0  Machine-op-inspct    Own-child  Black    Male             0             0   \n",
       "1    Farming-fishing      Husband  White    Male             0             0   \n",
       "2    Protective-serv      Husband  White    Male             0             0   \n",
       "3  Machine-op-inspct      Husband  Black    Male          7688             0   \n",
       "4                  ?    Own-child  White  Female             0             0   \n",
       "\n",
       "   hours-per-week native-country income  \n",
       "0              40  United-States  <=50K  \n",
       "1              50  United-States  <=50K  \n",
       "2              40  United-States   >50K  \n",
       "3              40  United-States   >50K  \n",
       "4              30  United-States  <=50K  "
      ]
     },
     "execution_count": 70,
     "metadata": {},
     "output_type": "execute_result"
    }
   ],
   "source": [
    "import pandas as pd\n",
    "data=pd.read_csv(\"adult.csv\")\n",
    "df=data.copy()\n",
    "df.head()"
   ]
  },
  {
   "cell_type": "code",
   "execution_count": 10,
   "metadata": {
    "ExecuteTime": {
     "end_time": "2020-06-13T16:00:22.045507Z",
     "start_time": "2020-06-13T16:00:22.001625Z"
    }
   },
   "outputs": [
    {
     "data": {
      "text/html": [
       "<div>\n",
       "<style scoped>\n",
       "    .dataframe tbody tr th:only-of-type {\n",
       "        vertical-align: middle;\n",
       "    }\n",
       "\n",
       "    .dataframe tbody tr th {\n",
       "        vertical-align: top;\n",
       "    }\n",
       "\n",
       "    .dataframe thead th {\n",
       "        text-align: right;\n",
       "    }\n",
       "</style>\n",
       "<table border=\"1\" class=\"dataframe\">\n",
       "  <thead>\n",
       "    <tr style=\"text-align: right;\">\n",
       "      <th></th>\n",
       "      <th>count</th>\n",
       "      <th>mean</th>\n",
       "      <th>std</th>\n",
       "      <th>min</th>\n",
       "      <th>25%</th>\n",
       "      <th>50%</th>\n",
       "      <th>75%</th>\n",
       "      <th>max</th>\n",
       "    </tr>\n",
       "  </thead>\n",
       "  <tbody>\n",
       "    <tr>\n",
       "      <td>age</td>\n",
       "      <td>48842.0</td>\n",
       "      <td>38.643585</td>\n",
       "      <td>13.710510</td>\n",
       "      <td>17.0</td>\n",
       "      <td>28.0</td>\n",
       "      <td>37.0</td>\n",
       "      <td>48.0</td>\n",
       "      <td>90.0</td>\n",
       "    </tr>\n",
       "    <tr>\n",
       "      <td>fnlwgt</td>\n",
       "      <td>48842.0</td>\n",
       "      <td>189664.134597</td>\n",
       "      <td>105604.025423</td>\n",
       "      <td>12285.0</td>\n",
       "      <td>117550.5</td>\n",
       "      <td>178144.5</td>\n",
       "      <td>237642.0</td>\n",
       "      <td>1490400.0</td>\n",
       "    </tr>\n",
       "    <tr>\n",
       "      <td>educational-num</td>\n",
       "      <td>48842.0</td>\n",
       "      <td>10.078089</td>\n",
       "      <td>2.570973</td>\n",
       "      <td>1.0</td>\n",
       "      <td>9.0</td>\n",
       "      <td>10.0</td>\n",
       "      <td>12.0</td>\n",
       "      <td>16.0</td>\n",
       "    </tr>\n",
       "    <tr>\n",
       "      <td>capital-gain</td>\n",
       "      <td>48842.0</td>\n",
       "      <td>1079.067626</td>\n",
       "      <td>7452.019058</td>\n",
       "      <td>0.0</td>\n",
       "      <td>0.0</td>\n",
       "      <td>0.0</td>\n",
       "      <td>0.0</td>\n",
       "      <td>99999.0</td>\n",
       "    </tr>\n",
       "    <tr>\n",
       "      <td>capital-loss</td>\n",
       "      <td>48842.0</td>\n",
       "      <td>87.502314</td>\n",
       "      <td>403.004552</td>\n",
       "      <td>0.0</td>\n",
       "      <td>0.0</td>\n",
       "      <td>0.0</td>\n",
       "      <td>0.0</td>\n",
       "      <td>4356.0</td>\n",
       "    </tr>\n",
       "    <tr>\n",
       "      <td>hours-per-week</td>\n",
       "      <td>48842.0</td>\n",
       "      <td>40.422382</td>\n",
       "      <td>12.391444</td>\n",
       "      <td>1.0</td>\n",
       "      <td>40.0</td>\n",
       "      <td>40.0</td>\n",
       "      <td>45.0</td>\n",
       "      <td>99.0</td>\n",
       "    </tr>\n",
       "  </tbody>\n",
       "</table>\n",
       "</div>"
      ],
      "text/plain": [
       "                   count           mean            std      min       25%  \\\n",
       "age              48842.0      38.643585      13.710510     17.0      28.0   \n",
       "fnlwgt           48842.0  189664.134597  105604.025423  12285.0  117550.5   \n",
       "educational-num  48842.0      10.078089       2.570973      1.0       9.0   \n",
       "capital-gain     48842.0    1079.067626    7452.019058      0.0       0.0   \n",
       "capital-loss     48842.0      87.502314     403.004552      0.0       0.0   \n",
       "hours-per-week   48842.0      40.422382      12.391444      1.0      40.0   \n",
       "\n",
       "                      50%       75%        max  \n",
       "age                  37.0      48.0       90.0  \n",
       "fnlwgt           178144.5  237642.0  1490400.0  \n",
       "educational-num      10.0      12.0       16.0  \n",
       "capital-gain          0.0       0.0    99999.0  \n",
       "capital-loss          0.0       0.0     4356.0  \n",
       "hours-per-week       40.0      45.0       99.0  "
      ]
     },
     "execution_count": 10,
     "metadata": {},
     "output_type": "execute_result"
    }
   ],
   "source": [
    "df.describe().T"
   ]
  },
  {
   "cell_type": "code",
   "execution_count": 11,
   "metadata": {
    "ExecuteTime": {
     "end_time": "2020-06-13T16:00:22.464413Z",
     "start_time": "2020-06-13T16:00:22.047502Z"
    }
   },
   "outputs": [],
   "source": [
    "#!pip install researchpy\n",
    "import researchpy as rp"
   ]
  },
  {
   "cell_type": "code",
   "execution_count": 12,
   "metadata": {
    "ExecuteTime": {
     "end_time": "2020-06-13T16:00:22.520238Z",
     "start_time": "2020-06-13T16:00:22.467402Z"
    }
   },
   "outputs": [
    {
     "name": "stdout",
     "output_type": "stream",
     "text": [
      "\n",
      "\n"
     ]
    },
    {
     "data": {
      "text/html": [
       "<div>\n",
       "<style scoped>\n",
       "    .dataframe tbody tr th:only-of-type {\n",
       "        vertical-align: middle;\n",
       "    }\n",
       "\n",
       "    .dataframe tbody tr th {\n",
       "        vertical-align: top;\n",
       "    }\n",
       "\n",
       "    .dataframe thead th {\n",
       "        text-align: right;\n",
       "    }\n",
       "</style>\n",
       "<table border=\"1\" class=\"dataframe\">\n",
       "  <thead>\n",
       "    <tr style=\"text-align: right;\">\n",
       "      <th></th>\n",
       "      <th>Variable</th>\n",
       "      <th>N</th>\n",
       "      <th>Mean</th>\n",
       "      <th>SD</th>\n",
       "      <th>SE</th>\n",
       "      <th>95% Conf.</th>\n",
       "      <th>Interval</th>\n",
       "    </tr>\n",
       "  </thead>\n",
       "  <tbody>\n",
       "    <tr>\n",
       "      <td>0</td>\n",
       "      <td>age</td>\n",
       "      <td>48842.0</td>\n",
       "      <td>38.643585</td>\n",
       "      <td>13.710510</td>\n",
       "      <td>0.062038</td>\n",
       "      <td>38.521990</td>\n",
       "      <td>38.765180</td>\n",
       "    </tr>\n",
       "    <tr>\n",
       "      <td>1</td>\n",
       "      <td>fnlwgt</td>\n",
       "      <td>48842.0</td>\n",
       "      <td>189664.134597</td>\n",
       "      <td>105604.025423</td>\n",
       "      <td>477.841377</td>\n",
       "      <td>188727.559498</td>\n",
       "      <td>190600.709697</td>\n",
       "    </tr>\n",
       "    <tr>\n",
       "      <td>2</td>\n",
       "      <td>capital-gain</td>\n",
       "      <td>48842.0</td>\n",
       "      <td>1079.067626</td>\n",
       "      <td>7452.019058</td>\n",
       "      <td>33.719198</td>\n",
       "      <td>1012.977575</td>\n",
       "      <td>1145.157678</td>\n",
       "    </tr>\n",
       "    <tr>\n",
       "      <td>3</td>\n",
       "      <td>capital-loss</td>\n",
       "      <td>48842.0</td>\n",
       "      <td>87.502314</td>\n",
       "      <td>403.004552</td>\n",
       "      <td>1.823531</td>\n",
       "      <td>83.928169</td>\n",
       "      <td>91.076458</td>\n",
       "    </tr>\n",
       "  </tbody>\n",
       "</table>\n",
       "</div>"
      ],
      "text/plain": [
       "       Variable        N           Mean             SD          SE  \\\n",
       "0           age  48842.0      38.643585      13.710510    0.062038   \n",
       "1        fnlwgt  48842.0  189664.134597  105604.025423  477.841377   \n",
       "2  capital-gain  48842.0    1079.067626    7452.019058   33.719198   \n",
       "3  capital-loss  48842.0      87.502314     403.004552    1.823531   \n",
       "\n",
       "       95% Conf.       Interval  \n",
       "0      38.521990      38.765180  \n",
       "1  188727.559498  190600.709697  \n",
       "2    1012.977575    1145.157678  \n",
       "3      83.928169      91.076458  "
      ]
     },
     "execution_count": 12,
     "metadata": {},
     "output_type": "execute_result"
    }
   ],
   "source": [
    "rp.summary_cont(df[[\"age\",\"fnlwgt\",\"capital-gain\",\"capital-loss\"]]) #Sayısal değişkenler için"
   ]
  },
  {
   "cell_type": "markdown",
   "metadata": {},
   "source": [
    "**SD** : Standart Sapma ,  **SE** : Standart Hata , **Conf-Interval** : Güven Aralıkları"
   ]
  },
  {
   "cell_type": "code",
   "execution_count": 13,
   "metadata": {
    "ExecuteTime": {
     "end_time": "2020-06-13T16:00:22.609001Z",
     "start_time": "2020-06-13T16:00:22.523232Z"
    }
   },
   "outputs": [
    {
     "data": {
      "text/html": [
       "<div>\n",
       "<style scoped>\n",
       "    .dataframe tbody tr th:only-of-type {\n",
       "        vertical-align: middle;\n",
       "    }\n",
       "\n",
       "    .dataframe tbody tr th {\n",
       "        vertical-align: top;\n",
       "    }\n",
       "\n",
       "    .dataframe thead th {\n",
       "        text-align: right;\n",
       "    }\n",
       "</style>\n",
       "<table border=\"1\" class=\"dataframe\">\n",
       "  <thead>\n",
       "    <tr style=\"text-align: right;\">\n",
       "      <th></th>\n",
       "      <th>Variable</th>\n",
       "      <th>Outcome</th>\n",
       "      <th>Count</th>\n",
       "      <th>Percent</th>\n",
       "    </tr>\n",
       "  </thead>\n",
       "  <tbody>\n",
       "    <tr>\n",
       "      <td>0</td>\n",
       "      <td>marital-status</td>\n",
       "      <td>Married-civ-spouse</td>\n",
       "      <td>22379</td>\n",
       "      <td>45.82</td>\n",
       "    </tr>\n",
       "    <tr>\n",
       "      <td>1</td>\n",
       "      <td></td>\n",
       "      <td>Never-married</td>\n",
       "      <td>16117</td>\n",
       "      <td>33.00</td>\n",
       "    </tr>\n",
       "    <tr>\n",
       "      <td>2</td>\n",
       "      <td></td>\n",
       "      <td>Divorced</td>\n",
       "      <td>6633</td>\n",
       "      <td>13.58</td>\n",
       "    </tr>\n",
       "    <tr>\n",
       "      <td>3</td>\n",
       "      <td></td>\n",
       "      <td>Separated</td>\n",
       "      <td>1530</td>\n",
       "      <td>3.13</td>\n",
       "    </tr>\n",
       "    <tr>\n",
       "      <td>4</td>\n",
       "      <td></td>\n",
       "      <td>Widowed</td>\n",
       "      <td>1518</td>\n",
       "      <td>3.11</td>\n",
       "    </tr>\n",
       "    <tr>\n",
       "      <td>5</td>\n",
       "      <td></td>\n",
       "      <td>Married-spouse-absent</td>\n",
       "      <td>628</td>\n",
       "      <td>1.29</td>\n",
       "    </tr>\n",
       "    <tr>\n",
       "      <td>6</td>\n",
       "      <td></td>\n",
       "      <td>Married-AF-spouse</td>\n",
       "      <td>37</td>\n",
       "      <td>0.08</td>\n",
       "    </tr>\n",
       "    <tr>\n",
       "      <td>7</td>\n",
       "      <td>gender</td>\n",
       "      <td>Male</td>\n",
       "      <td>32650</td>\n",
       "      <td>66.85</td>\n",
       "    </tr>\n",
       "    <tr>\n",
       "      <td>8</td>\n",
       "      <td></td>\n",
       "      <td>Female</td>\n",
       "      <td>16192</td>\n",
       "      <td>33.15</td>\n",
       "    </tr>\n",
       "    <tr>\n",
       "      <td>9</td>\n",
       "      <td>race</td>\n",
       "      <td>White</td>\n",
       "      <td>41762</td>\n",
       "      <td>85.50</td>\n",
       "    </tr>\n",
       "    <tr>\n",
       "      <td>10</td>\n",
       "      <td></td>\n",
       "      <td>Black</td>\n",
       "      <td>4685</td>\n",
       "      <td>9.59</td>\n",
       "    </tr>\n",
       "    <tr>\n",
       "      <td>11</td>\n",
       "      <td></td>\n",
       "      <td>Asian-Pac-Islander</td>\n",
       "      <td>1519</td>\n",
       "      <td>3.11</td>\n",
       "    </tr>\n",
       "    <tr>\n",
       "      <td>12</td>\n",
       "      <td></td>\n",
       "      <td>Amer-Indian-Eskimo</td>\n",
       "      <td>470</td>\n",
       "      <td>0.96</td>\n",
       "    </tr>\n",
       "    <tr>\n",
       "      <td>13</td>\n",
       "      <td></td>\n",
       "      <td>Other</td>\n",
       "      <td>406</td>\n",
       "      <td>0.83</td>\n",
       "    </tr>\n",
       "  </tbody>\n",
       "</table>\n",
       "</div>"
      ],
      "text/plain": [
       "          Variable                Outcome  Count  Percent\n",
       "0   marital-status     Married-civ-spouse  22379    45.82\n",
       "1                           Never-married  16117    33.00\n",
       "2                                Divorced   6633    13.58\n",
       "3                               Separated   1530     3.13\n",
       "4                                 Widowed   1518     3.11\n",
       "5                   Married-spouse-absent    628     1.29\n",
       "6                       Married-AF-spouse     37     0.08\n",
       "7           gender                   Male  32650    66.85\n",
       "8                                  Female  16192    33.15\n",
       "9             race                  White  41762    85.50\n",
       "10                                  Black   4685     9.59\n",
       "11                     Asian-Pac-Islander   1519     3.11\n",
       "12                     Amer-Indian-Eskimo    470     0.96\n",
       "13                                  Other    406     0.83"
      ]
     },
     "execution_count": 13,
     "metadata": {},
     "output_type": "execute_result"
    }
   ],
   "source": [
    "rp.summary_cat(df[[\"marital-status\",\"gender\",\"race\"]]) #kategorik değişkenler için"
   ]
  },
  {
   "cell_type": "code",
   "execution_count": 14,
   "metadata": {
    "ExecuteTime": {
     "end_time": "2020-06-13T16:00:22.629944Z",
     "start_time": "2020-06-13T16:00:22.611994Z"
    }
   },
   "outputs": [
    {
     "data": {
      "text/html": [
       "<div>\n",
       "<style scoped>\n",
       "    .dataframe tbody tr th:only-of-type {\n",
       "        vertical-align: middle;\n",
       "    }\n",
       "\n",
       "    .dataframe tbody tr th {\n",
       "        vertical-align: top;\n",
       "    }\n",
       "\n",
       "    .dataframe thead th {\n",
       "        text-align: right;\n",
       "    }\n",
       "</style>\n",
       "<table border=\"1\" class=\"dataframe\">\n",
       "  <thead>\n",
       "    <tr style=\"text-align: right;\">\n",
       "      <th></th>\n",
       "      <th>capital-gain</th>\n",
       "      <th>capital-loss</th>\n",
       "    </tr>\n",
       "  </thead>\n",
       "  <tbody>\n",
       "    <tr>\n",
       "      <td>capital-gain</td>\n",
       "      <td>5.553259e+07</td>\n",
       "      <td>-94422.847037</td>\n",
       "    </tr>\n",
       "    <tr>\n",
       "      <td>capital-loss</td>\n",
       "      <td>-9.442285e+04</td>\n",
       "      <td>162412.669033</td>\n",
       "    </tr>\n",
       "  </tbody>\n",
       "</table>\n",
       "</div>"
      ],
      "text/plain": [
       "              capital-gain   capital-loss\n",
       "capital-gain  5.553259e+07  -94422.847037\n",
       "capital-loss -9.442285e+04  162412.669033"
      ]
     },
     "execution_count": 14,
     "metadata": {},
     "output_type": "execute_result"
    }
   ],
   "source": [
    "df[[\"capital-gain\",\"capital-loss\"]].cov() #kovaryans"
   ]
  },
  {
   "cell_type": "code",
   "execution_count": 15,
   "metadata": {
    "ExecuteTime": {
     "end_time": "2020-06-13T16:00:22.652884Z",
     "start_time": "2020-06-13T16:00:22.632937Z"
    }
   },
   "outputs": [
    {
     "data": {
      "text/html": [
       "<div>\n",
       "<style scoped>\n",
       "    .dataframe tbody tr th:only-of-type {\n",
       "        vertical-align: middle;\n",
       "    }\n",
       "\n",
       "    .dataframe tbody tr th {\n",
       "        vertical-align: top;\n",
       "    }\n",
       "\n",
       "    .dataframe thead th {\n",
       "        text-align: right;\n",
       "    }\n",
       "</style>\n",
       "<table border=\"1\" class=\"dataframe\">\n",
       "  <thead>\n",
       "    <tr style=\"text-align: right;\">\n",
       "      <th></th>\n",
       "      <th>capital-gain</th>\n",
       "      <th>capital-loss</th>\n",
       "    </tr>\n",
       "  </thead>\n",
       "  <tbody>\n",
       "    <tr>\n",
       "      <td>capital-gain</td>\n",
       "      <td>1.000000</td>\n",
       "      <td>-0.031441</td>\n",
       "    </tr>\n",
       "    <tr>\n",
       "      <td>capital-loss</td>\n",
       "      <td>-0.031441</td>\n",
       "      <td>1.000000</td>\n",
       "    </tr>\n",
       "  </tbody>\n",
       "</table>\n",
       "</div>"
      ],
      "text/plain": [
       "              capital-gain  capital-loss\n",
       "capital-gain      1.000000     -0.031441\n",
       "capital-loss     -0.031441      1.000000"
      ]
     },
     "execution_count": 15,
     "metadata": {},
     "output_type": "execute_result"
    }
   ],
   "source": [
    "df[[\"capital-gain\",\"capital-loss\"]].corr() #korelasyon"
   ]
  },
  {
   "cell_type": "markdown",
   "metadata": {},
   "source": [
    "# GÜVEN ARALIKLARI"
   ]
  },
  {
   "cell_type": "markdown",
   "metadata": {},
   "source": [
    "Bir anakütle parametre değerinin tek bir sayı ile kestirimi yapılacağına, bu parametre değerini kapsayabilecek iki sayıdan oluşan bir aralık bulunur. Örneklem büyüklüğü arttıkça güven aralığı daralır. Örneklemden elde edilen varyans,ortalama gibi değerlerden hareketle tahmini sınırlar verir."
   ]
  },
  {
   "cell_type": "markdown",
   "metadata": {},
   "source": [
    "![title](guvenn.png)"
   ]
  },
  {
   "cell_type": "markdown",
   "metadata": {},
   "source": [
    "Örneğin belli bir yaştaki 1000 hastaya ait kan basıncı değerlerini aldığımızı düşünelim. İlgili popülasyonun ortalama kan basıncının %95 olasılıkla hangi değerler arasında olabileceğini bulalım."
   ]
  },
  {
   "cell_type": "code",
   "execution_count": 16,
   "metadata": {
    "ExecuteTime": {
     "end_time": "2020-06-13T16:00:22.661859Z",
     "start_time": "2020-06-13T16:00:22.655875Z"
    }
   },
   "outputs": [],
   "source": [
    "kan_basinci = np.random.randint(10,130, 1000) # 10 ile 130 arasında 1000 gözlem"
   ]
  },
  {
   "cell_type": "code",
   "execution_count": 17,
   "metadata": {
    "ExecuteTime": {
     "end_time": "2020-06-13T16:00:22.677816Z",
     "start_time": "2020-06-13T16:00:22.669838Z"
    }
   },
   "outputs": [
    {
     "data": {
      "text/plain": [
       "68.467"
      ]
     },
     "execution_count": 17,
     "metadata": {},
     "output_type": "execute_result"
    }
   ],
   "source": [
    "kan_basinci.mean()"
   ]
  },
  {
   "cell_type": "code",
   "execution_count": 35,
   "metadata": {
    "ExecuteTime": {
     "end_time": "2020-06-14T10:40:25.880904Z",
     "start_time": "2020-06-14T10:40:25.537328Z"
    }
   },
   "outputs": [],
   "source": [
    "import statsmodels.stats.api as sms"
   ]
  },
  {
   "cell_type": "code",
   "execution_count": 19,
   "metadata": {
    "ExecuteTime": {
     "end_time": "2020-06-13T16:00:22.934133Z",
     "start_time": "2020-06-13T16:00:22.926152Z"
    }
   },
   "outputs": [
    {
     "name": "stdout",
     "output_type": "stream",
     "text": [
      "Güven Aralıkları : (66.34188141753465, 70.59211858246535)\n"
     ]
    }
   ],
   "source": [
    "print(\"Güven Aralıkları :\",sms.DescrStatsW(kan_basinci).tconfint_mean())"
   ]
  },
  {
   "cell_type": "markdown",
   "metadata": {},
   "source": [
    "Popülasyondan alınan kan basıncı değeri istatistiksel olarak %95 güvenilirlikle bulunan değerler arasındadır."
   ]
  },
  {
   "cell_type": "markdown",
   "metadata": {},
   "source": [
    "# OLASILIK DAĞILIMLARI"
   ]
  },
  {
   "cell_type": "markdown",
   "metadata": {},
   "source": [
    "**Olasılık Dağılımı** : Rassal bir olaya ait değerler ve bu değerlerin gerçekleşme olasılıklarının bir arada ifade edilmesidir.\n",
    "\n",
    "**Olasılık Fonksiyonu** : Bir değişkenin herhangi bir değeri alması olasılığını hesaplayan fonksiyon.\n",
    "\n",
    "**Kesikli (Discrete) Olasılık Dağılımları**: Bernoilli, Binom, Poisson, Geometric, Hypergeometric...\n",
    "\n",
    "**Sürekli (Continious) Olasılık Dağılımları**: Normal, Uniform, Üstel (Exponential), Gamma, Beta..."
   ]
  },
  {
   "cell_type": "markdown",
   "metadata": {},
   "source": [
    "## KESİKLİ OLASILIK DAĞILIMLARI"
   ]
  },
  {
   "cell_type": "markdown",
   "metadata": {},
   "source": [
    "### Bernoulli Dağılımı"
   ]
  },
  {
   "cell_type": "markdown",
   "metadata": {},
   "source": [
    "Olumlu-olumsuz,başarılı-başarısız,iyi-kötü şeklindeki iki sonucu olan olaylar ile ilgilenildiğinde kullanılır."
   ]
  },
  {
   "cell_type": "markdown",
   "metadata": {},
   "source": [
    "![title](bernoulli.png)  ![title](bernoulli2.png) ![title](bernoulli3.png)"
   ]
  },
  {
   "cell_type": "code",
   "execution_count": 20,
   "metadata": {
    "ExecuteTime": {
     "end_time": "2020-06-13T16:00:22.943107Z",
     "start_time": "2020-06-13T16:00:22.937123Z"
    }
   },
   "outputs": [],
   "source": [
    "from scipy.stats import bernoulli"
   ]
  },
  {
   "cell_type": "markdown",
   "metadata": {},
   "source": [
    "Bir parayı attığımızda tura gelme olasılığını 0,4 olarak belirleyelim."
   ]
  },
  {
   "cell_type": "code",
   "execution_count": 21,
   "metadata": {
    "ExecuteTime": {
     "end_time": "2020-06-13T16:00:22.952085Z",
     "start_time": "2020-06-13T16:00:22.946099Z"
    }
   },
   "outputs": [],
   "source": [
    "p=0.4"
   ]
  },
  {
   "cell_type": "code",
   "execution_count": 22,
   "metadata": {
    "ExecuteTime": {
     "end_time": "2020-06-13T16:00:22.965048Z",
     "start_time": "2020-06-13T16:00:22.955075Z"
    }
   },
   "outputs": [
    {
     "data": {
      "text/plain": [
       "0.4"
      ]
     },
     "execution_count": 22,
     "metadata": {},
     "output_type": "execute_result"
    }
   ],
   "source": [
    "bernoulli(p).pmf(k=1)  #pmf - probabilty mass function - olasılık kütle fonksiyonu"
   ]
  },
  {
   "cell_type": "code",
   "execution_count": 23,
   "metadata": {
    "ExecuteTime": {
     "end_time": "2020-06-13T16:00:22.982005Z",
     "start_time": "2020-06-13T16:00:22.973027Z"
    }
   },
   "outputs": [
    {
     "data": {
      "text/plain": [
       "0.6"
      ]
     },
     "execution_count": 23,
     "metadata": {},
     "output_type": "execute_result"
    }
   ],
   "source": [
    "bernoulli(p).pmf(k=0) #yazı gelme olasılığı"
   ]
  },
  {
   "cell_type": "code",
   "execution_count": 31,
   "metadata": {
    "ExecuteTime": {
     "end_time": "2020-06-13T16:02:10.339304Z",
     "start_time": "2020-06-13T16:02:10.156792Z"
    }
   },
   "outputs": [
    {
     "data": {
      "text/plain": [
       "Text(0.5, 1.0, 'Bernoulli Dağılımı')"
      ]
     },
     "execution_count": 31,
     "metadata": {},
     "output_type": "execute_result"
    },
    {
     "data": {
      "image/png": "[encoded data removed]",
      "text/plain": [
       "<Figure size 432x288 with 1 Axes>"
      ]
     },
     "metadata": {
      "needs_background": "light"
     },
     "output_type": "display_data"
    }
   ],
   "source": [
    "import seaborn as sns\n",
    "import matplotlib.pyplot as plt\n",
    "data_bern = bernoulli.rvs(size=10000,p=0.6)\n",
    "sns.distplot(data_bern,\n",
    "                 kde=False,\n",
    "                 color=\"skyblue\",\n",
    "                 hist_kws={\"linewidth\": 15,'alpha':1})\n",
    "plt.title(\"Bernoulli Dağılımı\")"
   ]
  },
  {
   "cell_type": "markdown",
   "metadata": {},
   "source": [
    "### Binom Dağılımı"
   ]
  },
  {
   "cell_type": "markdown",
   "metadata": {},
   "source": [
    "Bir deney n kez tekrarlandığında belli bir olay x defa meydana geliyorsa bu olayın olasılığı\n",
    "binom dağılımı ile bulunur. Deneyler bağımsızdır."
   ]
  },
  {
   "cell_type": "markdown",
   "metadata": {},
   "source": [
    "![title](binom.png) **E(X) = np       Var(X) = np(1-p)**"
   ]
  },
  {
   "cell_type": "markdown",
   "metadata": {},
   "source": [
    "p=0,5 olduğunda dağılım simetrik yapıdadır.p>0,5 ise çarpıklık sola doğru,p<0,5 ise çarpıklık sağa doğru olur."
   ]
  },
  {
   "cell_type": "markdown",
   "metadata": {},
   "source": [
    "Bir işletmede çalışan işçilerin işe geç kalma oranının %10 olduğunu bildiğimizi varsayalım.Bu işletmede çalışan işçilerden 200 tane rastgele seçtiğimizde 8 tanesinin işe geç kalma olasılığını bulalım."
   ]
  },
  {
   "cell_type": "code",
   "execution_count": 32,
   "metadata": {
    "ExecuteTime": {
     "end_time": "2020-06-13T16:02:22.386180Z",
     "start_time": "2020-06-13T16:02:22.379210Z"
    }
   },
   "outputs": [
    {
     "name": "stdout",
     "output_type": "stream",
     "text": [
      "0.0009030369045712714\n"
     ]
    }
   ],
   "source": [
    "from scipy.stats import binom\n",
    "p = 0.10\n",
    "n = 200\n",
    "rv = binom(n, p)\n",
    "print(rv.pmf(8))\n"
   ]
  },
  {
   "cell_type": "code",
   "execution_count": 34,
   "metadata": {
    "ExecuteTime": {
     "end_time": "2020-06-13T16:02:34.132635Z",
     "start_time": "2020-06-13T16:02:33.879313Z"
    }
   },
   "outputs": [
    {
     "data": {
      "text/plain": [
       "Text(0.5, 1.0, 'Binom Dağılımı')"
      ]
     },
     "execution_count": 34,
     "metadata": {},
     "output_type": "execute_result"
    },
    {
     "data": {
      "image/png": "[encoded data removed]",
      "text/plain": [
       "<Figure size 432x288 with 1 Axes>"
      ]
     },
     "metadata": {
      "needs_background": "light"
     },
     "output_type": "display_data"
    }
   ],
   "source": [
    "data_binom = binom.rvs(n=10,p=0.8,size=10000)\n",
    "sns.distplot(data_binom,\n",
    "                  kde=False,\n",
    "                  color='skyblue',                  \n",
    "                  hist_kws={\"linewidth\": 15,'alpha':1})\n",
    "plt.title(\"Binom Dağılımı\")"
   ]
  },
  {
   "cell_type": "markdown",
   "metadata": {
    "ExecuteTime": {
     "end_time": "2020-06-13T09:59:05.740770Z",
     "start_time": "2020-06-13T09:59:05.734778Z"
    }
   },
   "source": [
    "### Poisson Dağılımı"
   ]
  },
  {
   "cell_type": "markdown",
   "metadata": {},
   "source": [
    "Nadir meydana gelen olayların dağılımını ifade eder. Bağımsız olaylarda kullanılır. Kütle sınırsız olduğunda olayların bağımsızlığına bakılmaksızın bu dağılım kullanılabilir. İş kazaları, nadir görülen hastalıklar, ürün muayenesi gibi alanlarda kullanılır. Binom dağılımının özel bir halidir. Bir olayın nadir olması için rassal deneme sayısı n>50 olmalı ve $\\lambda<5$ olmalı. Bir sürücünün trafik kazası yapması, 20000 kelimeden oluşan bir kitapta hatalı yazını yer alması gibi olaylar nadir olaylardır."
   ]
  },
  {
   "cell_type": "markdown",
   "metadata": {},
   "source": [
    "${\\displaystyle f(x,\\lambda )={\\frac {\\lambda ^{x}e^{-\\lambda }}{x!}}\\,\\!}$,  x = 0,1,2,...,n   $ E(x) =\\lambda $  $   Var(x)=\\lambda $"
   ]
  },
  {
   "cell_type": "markdown",
   "metadata": {},
   "source": [
    "Bir işletmede yılık kişi başına düşen ortalama iş kazası 0,2 olarak bulunmuş olsun.Tesadüfen seçilen bir kişinin hiç kaza geçirmeme,bir kaza geçirme ve en az bir kaza geçirme olasıklarını bulalım"
   ]
  },
  {
   "cell_type": "code",
   "execution_count": 35,
   "metadata": {
    "ExecuteTime": {
     "end_time": "2020-06-13T16:02:36.978483Z",
     "start_time": "2020-06-13T16:02:36.975486Z"
    }
   },
   "outputs": [],
   "source": [
    "from scipy.stats import poisson"
   ]
  },
  {
   "cell_type": "code",
   "execution_count": 36,
   "metadata": {
    "ExecuteTime": {
     "end_time": "2020-06-13T16:02:37.329118Z",
     "start_time": "2020-06-13T16:02:37.323159Z"
    }
   },
   "outputs": [
    {
     "name": "stdout",
     "output_type": "stream",
     "text": [
      "0.8187307530779818\n"
     ]
    }
   ],
   "source": [
    "lambda_= 0.2\n",
    "rv = poisson(mu = lambda_)\n",
    "print(rv.pmf(k = 0)) #hiç kaza geçirmeme"
   ]
  },
  {
   "cell_type": "code",
   "execution_count": 37,
   "metadata": {
    "ExecuteTime": {
     "end_time": "2020-06-13T16:02:37.873216Z",
     "start_time": "2020-06-13T16:02:37.866269Z"
    }
   },
   "outputs": [
    {
     "name": "stdout",
     "output_type": "stream",
     "text": [
      "0.1637461506155964\n"
     ]
    }
   ],
   "source": [
    "print(rv.pmf(k=1)) #bir kaza geçirme"
   ]
  },
  {
   "cell_type": "code",
   "execution_count": 38,
   "metadata": {
    "ExecuteTime": {
     "end_time": "2020-06-13T16:02:38.275109Z",
     "start_time": "2020-06-13T16:02:38.268142Z"
    },
    "scrolled": true
   },
   "outputs": [
    {
     "name": "stdout",
     "output_type": "stream",
     "text": [
      "0.18126924692201818\n"
     ]
    }
   ],
   "source": [
    "print(1-rv.pmf(k=0)) #en az bir kaza geçirme"
   ]
  },
  {
   "cell_type": "code",
   "execution_count": 40,
   "metadata": {
    "ExecuteTime": {
     "end_time": "2020-06-13T16:02:51.175867Z",
     "start_time": "2020-06-13T16:02:50.922558Z"
    }
   },
   "outputs": [
    {
     "data": {
      "text/plain": [
       "Text(0.5, 1.0, 'Poisson Dağılımı')"
      ]
     },
     "execution_count": 40,
     "metadata": {},
     "output_type": "execute_result"
    },
    {
     "data": {
      "image/png": "[encoded data removed]",
      "text/plain": [
       "<Figure size 432x288 with 1 Axes>"
      ]
     },
     "metadata": {
      "needs_background": "light"
     },
     "output_type": "display_data"
    }
   ],
   "source": [
    "data_poisson = poisson.rvs(mu=3, size=10000)\n",
    "sns.distplot(data_poisson,\n",
    "                  bins=30,\n",
    "                  kde=False,\n",
    "                  color='skyblue',\n",
    "                  hist_kws={\"linewidth\": 15,'alpha':1})\n",
    "plt.title(\"Poisson Dağılımı\")"
   ]
  },
  {
   "cell_type": "markdown",
   "metadata": {},
   "source": [
    "### Hipergeometrik Dağılım"
   ]
  },
  {
   "cell_type": "markdown",
   "metadata": {},
   "source": [
    "Örnek, kütleden yerine koymadan çekildiği takdirde artık bağımsız olay söz konusu olmadığı için binom dağılım uygulanamaz. Bu gibi durumlarda yani deneylerin bağımsız olmadığı durumlarda hipergeometrik dağılım uygulanır."
   ]
  },
  {
   "cell_type": "markdown",
   "metadata": {},
   "source": [
    "![title](hipergeometrik.png)"
   ]
  },
  {
   "cell_type": "markdown",
   "metadata": {},
   "source": [
    "Bir dernekte 12 si erkek 8 i bayan toplam 20 üye vardır. 5 Kişilik bir komisyon kura ile seçiliyor. Komisyonda 3 erkek bulunma olasılığını bulalım."
   ]
  },
  {
   "cell_type": "code",
   "execution_count": 41,
   "metadata": {
    "ExecuteTime": {
     "end_time": "2020-06-13T16:02:54.406106Z",
     "start_time": "2020-06-13T16:02:54.404094Z"
    }
   },
   "outputs": [],
   "source": [
    "from scipy.stats import hypergeom"
   ]
  },
  {
   "cell_type": "code",
   "execution_count": 42,
   "metadata": {
    "ExecuteTime": {
     "end_time": "2020-06-13T16:02:54.681944Z",
     "start_time": "2020-06-13T16:02:54.673983Z"
    }
   },
   "outputs": [
    {
     "data": {
      "text/plain": [
       "0.3973168214654285"
      ]
     },
     "execution_count": 42,
     "metadata": {},
     "output_type": "execute_result"
    }
   ],
   "source": [
    "[M, n, N] = [20, 12, 5] # 20 üye, 12 erkek, 5 kişilik komisyon\n",
    "rv = hypergeom(M, n, N)\n",
    "rv.pmf(3)"
   ]
  },
  {
   "cell_type": "markdown",
   "metadata": {
    "ExecuteTime": {
     "end_time": "2020-06-13T10:24:21.419804Z",
     "start_time": "2020-06-13T10:24:21.413821Z"
    }
   },
   "source": [
    "###  Geometrik Dağılım"
   ]
  },
  {
   "cell_type": "markdown",
   "metadata": {},
   "source": [
    "Eğer uygun hal x'inci deneyde ilk defa meydana geliyorsa x-1 sayıdaki deneyde uygun olmayan hal meydana gelmiş demektir. Buna göre geometrik dağılım fonksiyonu aşağıdaki gibidir."
   ]
  },
  {
   "cell_type": "markdown",
   "metadata": {},
   "source": [
    "![title](geometrik.png)"
   ]
  },
  {
   "cell_type": "markdown",
   "metadata": {},
   "source": [
    "Bir basketbol oyuncusunun sayı üçlük sayı yapma olasılığı 0,7 olsun. Oyuncunun 6.atışta ilk defa üçlük sayı yapma olasığını bulalım."
   ]
  },
  {
   "cell_type": "code",
   "execution_count": 43,
   "metadata": {
    "ExecuteTime": {
     "end_time": "2020-06-13T16:02:56.956541Z",
     "start_time": "2020-06-13T16:02:56.951554Z"
    }
   },
   "outputs": [],
   "source": [
    "from scipy.stats import geom"
   ]
  },
  {
   "cell_type": "code",
   "execution_count": 44,
   "metadata": {
    "ExecuteTime": {
     "end_time": "2020-06-13T16:02:57.283831Z",
     "start_time": "2020-06-13T16:02:57.276849Z"
    }
   },
   "outputs": [
    {
     "data": {
      "text/plain": [
       "0.0017010000000000011"
      ]
     },
     "execution_count": 44,
     "metadata": {},
     "output_type": "execute_result"
    }
   ],
   "source": [
    "geom.pmf(k=6,p=0.7)"
   ]
  },
  {
   "cell_type": "markdown",
   "metadata": {},
   "source": [
    "## SÜREKLİ OLASILIK DAĞILIMLARI"
   ]
  },
  {
   "cell_type": "markdown",
   "metadata": {},
   "source": [
    "### Normal Dağılım"
   ]
  },
  {
   "cell_type": "markdown",
   "metadata": {},
   "source": [
    "Gauss dağılımı,normal eğri,çan eğrisi gibi adlarla da bilinir.\n",
    "* Dağılım aritmetik ortalama etrafında simetriktir.\n",
    "* Artimetik ortalama,mod ve medyan birbirine eşittir.\n",
    "* Sürekli rassal bir değişkenin yoğunluk fonksiyonu olduğu için eğrinin altında kalan alanın tamamı 1’e eşittir."
   ]
  },
  {
   "cell_type": "markdown",
   "metadata": {},
   "source": [
    "![title](normal.png) \n",
    "* $\\mu$  ortalama ya da dağılımın beklenen değeri\n",
    "\n",
    "* ${\\displaystyle \\sigma }$  standart sapma\n",
    "\n",
    "* ${\\displaystyle \\sigma ^{2}}$ varyans"
   ]
  },
  {
   "cell_type": "code",
   "execution_count": 45,
   "metadata": {
    "ExecuteTime": {
     "end_time": "2020-06-13T16:02:58.979802Z",
     "start_time": "2020-06-13T16:02:58.975813Z"
    }
   },
   "outputs": [],
   "source": [
    "from scipy.stats import norm"
   ]
  },
  {
   "cell_type": "markdown",
   "metadata": {},
   "source": [
    "Aylık ortalama 70.000 TL'lik satış yaptığımızı düşünelim.Satışlarımız normal dağılıyor.Standart sapma ise 5000 olsun.80.000 TL'den fazla satış yapma olasılığını bulalım."
   ]
  },
  {
   "cell_type": "code",
   "execution_count": 46,
   "metadata": {
    "ExecuteTime": {
     "end_time": "2020-06-13T16:02:59.526215Z",
     "start_time": "2020-06-13T16:02:59.519232Z"
    }
   },
   "outputs": [
    {
     "data": {
      "text/plain": [
       "0.02275013194817921"
      ]
     },
     "execution_count": 46,
     "metadata": {},
     "output_type": "execute_result"
    }
   ],
   "source": [
    "1-norm.cdf(80, 70, 5) #kmülatif yoğunluk fonksiyonu.Kesikli dağılımdan farklı olarak bir alan tarasması yapıyoruz."
   ]
  },
  {
   "cell_type": "code",
   "execution_count": 47,
   "metadata": {
    "ExecuteTime": {
     "end_time": "2020-06-13T16:02:59.717929Z",
     "start_time": "2020-06-13T16:02:59.711944Z"
    }
   },
   "outputs": [
    {
     "data": {
      "text/plain": [
       "0.9772498680518208"
      ]
     },
     "execution_count": 47,
     "metadata": {},
     "output_type": "execute_result"
    }
   ],
   "source": [
    "1-norm.cdf(60, 70, 5) #60'tan fazla olma olasılığı"
   ]
  },
  {
   "cell_type": "code",
   "execution_count": 48,
   "metadata": {
    "ExecuteTime": {
     "end_time": "2020-06-13T16:02:59.917395Z",
     "start_time": "2020-06-13T16:02:59.910440Z"
    }
   },
   "outputs": [
    {
     "data": {
      "text/plain": [
       "0.054799291699557974"
      ]
     },
     "execution_count": 48,
     "metadata": {},
     "output_type": "execute_result"
    }
   ],
   "source": [
    "norm.cdf(62,70,5) #62'den az olma olasılığı"
   ]
  },
  {
   "cell_type": "code",
   "execution_count": 49,
   "metadata": {
    "ExecuteTime": {
     "end_time": "2020-06-13T16:03:00.126837Z",
     "start_time": "2020-06-13T16:03:00.119855Z"
    }
   },
   "outputs": [
    {
     "data": {
      "text/plain": [
       "0.02271846070634609"
      ]
     },
     "execution_count": 49,
     "metadata": {},
     "output_type": "execute_result"
    }
   ],
   "source": [
    "norm.cdf(90,70,5)-norm.cdf(80,70,5) #80 ile 90 arasında olma olasılığı"
   ]
  },
  {
   "cell_type": "code",
   "execution_count": 51,
   "metadata": {
    "ExecuteTime": {
     "end_time": "2020-06-13T16:03:11.579801Z",
     "start_time": "2020-06-13T16:03:11.219790Z"
    }
   },
   "outputs": [
    {
     "data": {
      "text/plain": [
       "Text(0.5, 1.0, 'Normal Dağılım')"
      ]
     },
     "execution_count": 51,
     "metadata": {},
     "output_type": "execute_result"
    },
    {
     "data": {
      "image/png": "[encoded data removed]",
      "text/plain": [
       "<Figure size 432x288 with 1 Axes>"
      ]
     },
     "metadata": {
      "needs_background": "light"
     },
     "output_type": "display_data"
    }
   ],
   "source": [
    "data_normal = norm.rvs(size=10000,loc=0,scale=1)\n",
    "sns.distplot(data_normal,\n",
    "                  bins=100,\n",
    "                  kde=True,\n",
    "                  color='skyblue',\n",
    "                  hist_kws={\"linewidth\": 15,'alpha':1})\n",
    "plt.title(\"Normal Dağılım\")"
   ]
  },
  {
   "cell_type": "markdown",
   "metadata": {},
   "source": [
    "### Uniform Dağılım"
   ]
  },
  {
   "cell_type": "markdown",
   "metadata": {},
   "source": [
    "X sürekli değişkeninin tanım aralığındaki olasılıkları eşit ise X'in dağılımı uniform dağılım olarak kabul edilir. Olasılık yoğunluk ve olasılık dağılım fonksiyonları aşağıdaki gibidir."
   ]
  },
  {
   "cell_type": "markdown",
   "metadata": {
    "ExecuteTime": {
     "end_time": "2020-06-13T11:25:32.172887Z",
     "start_time": "2020-06-13T11:25:32.149945Z"
    }
   },
   "source": [
    "![title](uniform.png)"
   ]
  },
  {
   "cell_type": "code",
   "execution_count": 52,
   "metadata": {
    "ExecuteTime": {
     "end_time": "2020-06-13T16:03:14.312873Z",
     "start_time": "2020-06-13T16:03:14.308879Z"
    }
   },
   "outputs": [],
   "source": [
    "from scipy.stats import uniform\n",
    "import seaborn as sns"
   ]
  },
  {
   "cell_type": "code",
   "execution_count": 53,
   "metadata": {
    "ExecuteTime": {
     "end_time": "2020-06-13T16:03:20.600992Z",
     "start_time": "2020-06-13T16:03:20.283805Z"
    }
   },
   "outputs": [
    {
     "data": {
      "text/plain": [
       "[Text(0, 0.5, 'Frekans'), Text(0.5, 0, 'Uniform Dağılım ')]"
      ]
     },
     "execution_count": 53,
     "metadata": {},
     "output_type": "execute_result"
    },
    {
     "data": {
      "image/png": "[encoded data removed]",
      "text/plain": [
       "<Figure size 432x288 with 1 Axes>"
      ]
     },
     "metadata": {
      "needs_background": "light"
     },
     "output_type": "display_data"
    }
   ],
   "source": [
    "data_uniform = uniform.rvs(size=10000, loc = 10, scale=20)\n",
    "ax = sns.distplot(data_uniform,\n",
    "                  bins=100,\n",
    "                  kde=True,\n",
    "                  color='skyblue',\n",
    "                  hist_kws={\"linewidth\": 15,'alpha':1})\n",
    "ax.set(xlabel='Uniform Dağılım ', ylabel='Frekans')"
   ]
  },
  {
   "cell_type": "markdown",
   "metadata": {},
   "source": [
    "### Gamma Dağılımı"
   ]
  },
  {
   "cell_type": "markdown",
   "metadata": {},
   "source": [
    "Gama dağılımı, sürekli olasılık dağılımlarının iki parametreli bir ailesidir. Ham haliyle nadiren kullanılırken, üstel, ki-kare dağılımları gibi diğer yaygın olarak kullanılan dağılımlar gama dağılımının özel durumlarıdır. Alfa 1 olduğunda üstel(exponential) dağılım elde edilir."
   ]
  },
  {
   "cell_type": "markdown",
   "metadata": {},
   "source": [
    "Olasılık yoğunluk fonksiyonu ![title](gamma.png)"
   ]
  },
  {
   "cell_type": "code",
   "execution_count": 54,
   "metadata": {
    "ExecuteTime": {
     "end_time": "2020-06-13T16:03:25.468347Z",
     "start_time": "2020-06-13T16:03:25.463281Z"
    }
   },
   "outputs": [],
   "source": [
    "from scipy.stats import gamma"
   ]
  },
  {
   "cell_type": "code",
   "execution_count": 55,
   "metadata": {
    "ExecuteTime": {
     "end_time": "2020-06-13T16:03:25.842365Z",
     "start_time": "2020-06-13T16:03:25.838377Z"
    }
   },
   "outputs": [],
   "source": [
    "data_gamma = gamma.rvs(a=5, size=10000)"
   ]
  },
  {
   "cell_type": "code",
   "execution_count": 57,
   "metadata": {
    "ExecuteTime": {
     "end_time": "2020-06-13T16:03:37.998979Z",
     "start_time": "2020-06-13T16:03:37.700741Z"
    }
   },
   "outputs": [
    {
     "data": {
      "text/plain": [
       "Text(0.5, 1.0, 'Gamma Dağılımı')"
      ]
     },
     "execution_count": 57,
     "metadata": {},
     "output_type": "execute_result"
    },
    {
     "data": {
      "image/png": "[encoded data removed]",
      "text/plain": [
       "<Figure size 432x288 with 1 Axes>"
      ]
     },
     "metadata": {
      "needs_background": "light"
     },
     "output_type": "display_data"
    }
   ],
   "source": [
    "sns.distplot(data_gamma,\n",
    "                  kde=True,\n",
    "                  bins=100,\n",
    "                  color='skyblue',\n",
    "                  hist_kws={\"linewidth\": 15,'alpha':1})\n",
    "plt.title(\"Gamma Dağılımı\")"
   ]
  },
  {
   "cell_type": "markdown",
   "metadata": {},
   "source": [
    "### Üstel Dağılım"
   ]
  },
  {
   "cell_type": "markdown",
   "metadata": {},
   "source": [
    "Olayların sürekli ve bağımsız olarak sabit bir ortalama hızda gerçekleştiği bir süreci tanımlar."
   ]
  },
  {
   "cell_type": "markdown",
   "metadata": {},
   "source": [
    "![title](ustel.png)"
   ]
  },
  {
   "cell_type": "code",
   "execution_count": 58,
   "metadata": {
    "ExecuteTime": {
     "end_time": "2020-06-13T16:03:41.340431Z",
     "start_time": "2020-06-13T16:03:41.337430Z"
    }
   },
   "outputs": [],
   "source": [
    "from scipy.stats import expon"
   ]
  },
  {
   "cell_type": "code",
   "execution_count": 59,
   "metadata": {
    "ExecuteTime": {
     "end_time": "2020-06-13T16:03:41.657282Z",
     "start_time": "2020-06-13T16:03:41.652270Z"
    }
   },
   "outputs": [],
   "source": [
    "data_expon = expon.rvs(scale=1,loc=0,size=1000)"
   ]
  },
  {
   "cell_type": "code",
   "execution_count": 60,
   "metadata": {
    "ExecuteTime": {
     "end_time": "2020-06-13T16:03:52.339950Z",
     "start_time": "2020-06-13T16:03:52.031775Z"
    }
   },
   "outputs": [
    {
     "data": {
      "text/plain": [
       "Text(0.5, 1.0, 'Üstel Dağılım')"
      ]
     },
     "execution_count": 60,
     "metadata": {},
     "output_type": "execute_result"
    },
    {
     "data": {
      "image/png": "[encoded data removed]",
      "text/plain": [
       "<Figure size 432x288 with 1 Axes>"
      ]
     },
     "metadata": {
      "needs_background": "light"
     },
     "output_type": "display_data"
    }
   ],
   "source": [
    "sns.distplot(data_expon,\n",
    "                  kde=True,\n",
    "                  bins=100,\n",
    "                  color='skyblue',\n",
    "                  hist_kws={\"linewidth\": 15,'alpha':1})\n",
    "plt.title(\"Üstel Dağılım\")"
   ]
  },
  {
   "cell_type": "markdown",
   "metadata": {},
   "source": [
    "### Weibull Dağılımı"
   ]
  },
  {
   "cell_type": "markdown",
   "metadata": {},
   "source": [
    "Güvenilirlik analizlerinde kullanılan bir dağılımdır. Alfa 1 olursa dağılım üstel dağılıma dönüşür.Alfa büyüdükçe dağılım normal dağılıma yaklaşır."
   ]
  },
  {
   "cell_type": "markdown",
   "metadata": {},
   "source": [
    "![title](weibull.png)"
   ]
  },
  {
   "cell_type": "code",
   "execution_count": 61,
   "metadata": {
    "ExecuteTime": {
     "end_time": "2020-06-13T16:03:55.547441Z",
     "start_time": "2020-06-13T16:03:55.357946Z"
    }
   },
   "outputs": [
    {
     "data": {
      "text/plain": [
       "(array([  9.,  30.,  85., 146., 221., 230., 173.,  78.,  26.,   2.]),\n",
       " array([0.29023941, 0.41693325, 0.54362709, 0.67032094, 0.79701478,\n",
       "        0.92370862, 1.05040247, 1.17709631, 1.30379015, 1.43048399,\n",
       "        1.55717784]),\n",
       " <a list of 10 Patch objects>)"
      ]
     },
     "execution_count": 61,
     "metadata": {},
     "output_type": "execute_result"
    },
    {
     "data": {
      "image/png": "[encoded data removed]",
      "text/plain": [
       "<Figure size 432x288 with 1 Axes>"
      ]
     },
     "metadata": {
      "needs_background": "light"
     },
     "output_type": "display_data"
    }
   ],
   "source": [
    "s = np.random.weibull(5, 1000)\n",
    "plt.hist(s)"
   ]
  },
  {
   "cell_type": "code",
   "execution_count": 62,
   "metadata": {
    "ExecuteTime": {
     "end_time": "2020-06-13T16:03:56.205356Z",
     "start_time": "2020-06-13T16:03:55.954002Z"
    }
   },
   "outputs": [
    {
     "data": {
      "image/png": "[encoded data removed]",
      "text/plain": [
       "<Figure size 432x288 with 1 Axes>"
      ]
     },
     "metadata": {
      "needs_background": "light"
     },
     "output_type": "display_data"
    }
   ],
   "source": [
    "import matplotlib.pyplot as plt\n",
    "x = np.arange(1,100.)/50.\n",
    "def weib(x,n,a):\n",
    "     return (a / n) * (x / n)**(a - 1) * np.exp(-(x / n)**a)\n",
    "count, bins, ignored = plt.hist(np.random.weibull(5.,1000))\n",
    "x = np.arange(1,100.)/50.\n",
    "scale = count.max()/weib(x, 1., 5.).max()\n",
    "plt.plot(x, weib(x, 1., 5.)*scale)\n",
    "plt.show()"
   ]
  },
  {
   "cell_type": "markdown",
   "metadata": {},
   "source": [
    "# HİPOTEZ TESTLERİ"
   ]
  },
  {
   "cell_type": "markdown",
   "metadata": {},
   "source": [
    "Uygulamada çoğu zaman örneklem istatistikleri yardımıyla ana kütle parametreleri hakkında bir karara varmaya çalışılmaktadır. Örneğin bir makine üzerinde yapılan bir ayarlamanın kusurlu mamul oranını düşürüp düşürmediği, yeni geliştirilen bir ilacın hastalığın tedavisinde etkin olup olmadığı, Üretim prosesinde yapılan bir değişikliğin mamul kalitesini yükseltip yükseltmediği, makine ayarında yapılan bir değişikliğin varyansı değiştirip değiştirmediği veya geliştirilen bir öğretim sisteminin eskisine göre bir farklılık gösterip göstermediği gibi konularda karar verilmesi gibi. İşletmelerde bu tür kararların verilebilmesi için istatistik karar verme tekniği olarak hipotez testlerinden faydalanılır.\n",
    "\n",
    "H0 hipotezi bir testte öne sürülen ve test edilmek istenen hipotezdir.H1 hipotezi ise alternatif hipotezdir ve H0 hipotezine karşı kurulur.Tek yönlü veya çift yönlü olabilirler.\n",
    "\n",
    "Bir hipotezin tek ya da çift yönlü olduğunu H1 hipotezi belirler. Örneğin,\n",
    "* **H0** : İkinci dönemde kız ve erkeklerin yaş ortalamaları arasında fark yoktur.\n",
    "* **H1** : İkinci dönemde kız ve erkeklerin yaş ortalamaları arasında fark vardır.\n",
    "**Bu şekilde kurulan bir hipotez çift yönlüdür çünkü bir ortalamanın diğerinden büyük ya da küçük olmasının bir önemi yoktur.\n",
    "H0 hipotezini reddederiz ya da reddetmeyiz.H0'ı kabul etmek yorumu doğru değildir.**"
   ]
  },
  {
   "cell_type": "markdown",
   "metadata": {},
   "source": [
    "![title](hipotez_.png)"
   ]
  },
  {
   "cell_type": "markdown",
   "metadata": {},
   "source": [
    "**P Value**"
   ]
  },
  {
   "cell_type": "markdown",
   "metadata": {},
   "source": [
    "$\\alpha$ kabul edilebilir hata miktarını ifade eder.  p<0,05 ise H0 hipotezini reddederiz.Bazı durumlarda H0'ı reddetmeyi ya da reddetmemeyi isteyebiliriz. Örneğin,dağılıma uygunluk testi yaptığımızı düşünelim. H0'ı \"Örnek dağılımla teorik dağılım arasında fark yoktur\" şeklinde kurarsak H0'ı reddetmek istemeyiz."
   ]
  },
  {
   "cell_type": "markdown",
   "metadata": {},
   "source": [
    "## Tek Örneklem T Testi\n",
    "\n",
    "Örnek ortalamasına ilişkin test yapmak için kullanılır.Popülasyon ortalaması ile varsayımsal değer arasında anlamlı bir fark olup olmadığını test etmek için kullanılan parametrik bir testtir. Web sitesinde geçirilen süre,bir ilçedeki yaş ortalamasıyla ilgili bir test kurmak istersek bunu kullanabiliriz.Örneğin bir kütlenin yaş ortalamasıyla ilgili aşağıdaki hipotezleri kurabiliriz.\n",
    "\n",
    "**Hipotezler:**\n",
    "\n",
    "<d><i>H</i><sub>0</sub>: <i>μ</i> = <i>40</i></d>   \n",
    "<d><i>H</i><sub>1</sub>: <i>μ</i> ≠ <i>40</i></d><br><br>\n",
    "\n",
    "<d><i>H</i><sub>0</sub>: <i>μ</i> <= <i>40</i></d><br>\n",
    "<d><i>H</i><sub>1</sub>: <i>μ</i> > <i>40</i></d><br><br>\n",
    "\n",
    "<d><i>H</i><sub>0</sub>: <i>μ</i> >= <i>40</i></d><br>\n",
    "<d><i>H</i><sub>1</sub>: <i>μ</i> < <i>40</i></d><br><br>\n",
    "\n",
    "\n",
    "\n",
    "\n",
    "<table></table>\n",
    "\n",
    "**Test İstatistiği:**\n",
    "\n",
    "${\\displaystyle t={\\frac {{\\bar {x}}-\\mu _{0}}{\\frac {s}{\\sqrt {n}}}}}$"
   ]
  },
  {
   "cell_type": "markdown",
   "metadata": {},
   "source": [
    "**Hipotez Testi Adımları**"
   ]
  },
  {
   "cell_type": "markdown",
   "metadata": {},
   "source": [
    "* Hipotezlerin kurulması ve yönlerinin Belirlenmesi\n",
    "* Anlamlılık düzeyi ve tablo değerinin belirlenmesi ( $\\alpha$)\n",
    "* Test istatistiğinin belirlenmesi ve hesaplanması\n",
    "* Hesaplanmış test istatistiği ile $\\alpha$'ya karşılık gelen tablo değerinin karşılaştırılması\n",
    "* Test istatistiği > Tablo değeri ise H0 değeri reddedilir. Sonuçlar yorumlanır."
   ]
  },
  {
   "cell_type": "markdown",
   "metadata": {},
   "source": [
    "**Anakütle standart sapması biliniyorsa Z istatistiği kullanılır. Anakütle standart sapması bilinmiyorsa ve n>30 ise Z istatistiği kullanılır. Anakütle standart sapması bilinmiyor ve n<30 ise t istatistiği kullanılır. örnek sayısı büyüdükçe t dağılımı normal dağılıma yaklaşır.**"
   ]
  },
  {
   "cell_type": "markdown",
   "metadata": {},
   "source": [
    "Varsayımlar sağlanmıyorsa non-parametric testler kullanılmalı."
   ]
  },
  {
   "cell_type": "markdown",
   "metadata": {},
   "source": [
    "Örneğin bir web sitesinde geçiren sürenin gerçekten 190 saniye olup olmadığıyla alakalı şüpheler olsun.Elimizde websitesinde geçirilen ortalama süreler var.Buna göre,\n",
    "\n",
    "* **H0**: Web sitesinde geçirilen süre ortalama 190 saniyedir.\n",
    "* **H1**: Web sitesinde geçirilen süre ortalama 190 saniye değildir."
   ]
  },
  {
   "cell_type": "markdown",
   "metadata": {},
   "source": [
    "Örnek olması açısından ölçüm değerleri oluşturalım."
   ]
  },
  {
   "cell_type": "code",
   "execution_count": 115,
   "metadata": {
    "ExecuteTime": {
     "end_time": "2020-06-13T16:28:47.287477Z",
     "start_time": "2020-06-13T16:28:47.280495Z"
    }
   },
   "outputs": [],
   "source": [
    "olcum=np.array([15,150,240,125,117,186,100,120,111,185,154,135,146,144,212,\n",
    "                187,183,150,198,25,103,175,73,110,67,132,188,155,188,202,133,\n",
    "               134,45,99,101,156,154,234,153,201,164,153,28,280,130,177,135,\n",
    "               120,188,195,199,186])"
   ]
  },
  {
   "cell_type": "code",
   "execution_count": 36,
   "metadata": {
    "ExecuteTime": {
     "end_time": "2020-06-14T10:40:45.748449Z",
     "start_time": "2020-06-14T10:40:45.744460Z"
    }
   },
   "outputs": [],
   "source": [
    "import scipy.stats as stats"
   ]
  },
  {
   "cell_type": "code",
   "execution_count": 117,
   "metadata": {
    "ExecuteTime": {
     "end_time": "2020-06-13T16:28:47.792805Z",
     "start_time": "2020-06-13T16:28:47.785823Z"
    }
   },
   "outputs": [
    {
     "data": {
      "text/plain": [
       "DescribeResult(nobs=52, minmax=(15, 280), mean=146.94230769230768, variance=2949.231900452489, skewness=-0.3704009880734704, kurtosis=0.33125829527445294)"
      ]
     },
     "execution_count": 117,
     "metadata": {},
     "output_type": "execute_result"
    }
   ],
   "source": [
    "stats.describe(olcum)"
   ]
  },
  {
   "cell_type": "markdown",
   "metadata": {},
   "source": [
    "Ortalama 194 olarak görünüyor. Bu değerin şansa bağlı oluşup oluşmadığını test edelim ama bunun için varsayımları kontrol etmek gerekir.\n"
   ]
  },
  {
   "cell_type": "code",
   "execution_count": 126,
   "metadata": {
    "ExecuteTime": {
     "end_time": "2020-06-13T16:36:22.314971Z",
     "start_time": "2020-06-13T16:36:22.137462Z"
    }
   },
   "outputs": [
    {
     "data": {
      "text/plain": [
       "<matplotlib.axes._subplots.AxesSubplot at 0x231dc6bbbc8>"
      ]
     },
     "execution_count": 126,
     "metadata": {},
     "output_type": "execute_result"
    },
    {
     "data": {
      "image/png": "[encoded data removed]",
      "text/plain": [
       "<Figure size 432x288 with 1 Axes>"
      ]
     },
     "metadata": {
      "needs_background": "light"
     },
     "output_type": "display_data"
    }
   ],
   "source": [
    "sns.distplot(pd.DataFrame(olcum),color=\"r\")"
   ]
  },
  {
   "cell_type": "code",
   "execution_count": 120,
   "metadata": {
    "ExecuteTime": {
     "end_time": "2020-06-13T16:30:24.675003Z",
     "start_time": "2020-06-13T16:30:24.545283Z"
    }
   },
   "outputs": [
    {
     "data": {
      "image/png": "[encoded data removed]",
      "text/plain": [
       "<Figure size 432x288 with 1 Axes>"
      ]
     },
     "metadata": {
      "needs_background": "light"
     },
     "output_type": "display_data"
    }
   ],
   "source": [
    "import pylab\n",
    "stats.probplot(olcum, dist=\"norm\", plot=pylab) #qqplot grafiği sol taraf örnek,alt taraf teorik dağılımı ifade eder\n",
    "pylab.show()"
   ]
  },
  {
   "cell_type": "markdown",
   "metadata": {},
   "source": [
    "Normallik varsayımını test etmek için Shapiro-Wilks testi yapalım.\n",
    "* H0 :Örnek dağılımı ile teorik normal dağılım arasında istatistiksel olarak anlamlı bir farklılık yoktur.\n",
    "* H1 :Örnek dağılımı ile teorik normal dağılım arasında istatistiksel olarak anlamlı bir farklılık vardır."
   ]
  },
  {
   "cell_type": "code",
   "execution_count": 121,
   "metadata": {
    "ExecuteTime": {
     "end_time": "2020-06-13T16:33:04.443997Z",
     "start_time": "2020-06-13T16:33:04.439991Z"
    }
   },
   "outputs": [],
   "source": [
    "from scipy.stats import shapiro"
   ]
  },
  {
   "cell_type": "code",
   "execution_count": 123,
   "metadata": {
    "ExecuteTime": {
     "end_time": "2020-06-13T16:33:35.173082Z",
     "start_time": "2020-06-13T16:33:35.169116Z"
    }
   },
   "outputs": [
    {
     "data": {
      "text/plain": [
       "(0.971328854560852, 0.24038264155387878)"
      ]
     },
     "execution_count": 123,
     "metadata": {},
     "output_type": "execute_result"
    }
   ],
   "source": [
    "shapiro(olcum) #(test istatistiği, p-value değeri)"
   ]
  },
  {
   "cell_type": "markdown",
   "metadata": {},
   "source": [
    "p-value 0.24 olduğu için H0'ı reddedemiyoruz.Örnek dağılımı ile teorik normal dağılım arasında istatistiksel olarak anlamlı bir farklılık yoktur. Öyleyse tek örneklem t testini uygulayabiliriz."
   ]
  },
  {
   "cell_type": "code",
   "execution_count": 135,
   "metadata": {
    "ExecuteTime": {
     "end_time": "2020-06-13T16:41:03.473092Z",
     "start_time": "2020-06-13T16:41:03.467079Z"
    }
   },
   "outputs": [
    {
     "data": {
      "text/plain": [
       "Ttest_1sampResult(statistic=-5.717391877618423, pvalue=5.665357482090354e-07)"
      ]
     },
     "execution_count": 135,
     "metadata": {},
     "output_type": "execute_result"
    }
   ],
   "source": [
    "stats.ttest_1samp(olcum, popmean = 190)"
   ]
  },
  {
   "cell_type": "code",
   "execution_count": 145,
   "metadata": {
    "ExecuteTime": {
     "end_time": "2020-06-13T16:43:55.112737Z",
     "start_time": "2020-06-13T16:43:55.107751Z"
    }
   },
   "outputs": [
    {
     "name": "stdout",
     "output_type": "stream",
     "text": [
      "P value değeri : 0.000000567\n"
     ]
    }
   ],
   "source": [
    "print(\"P value değeri : \"f\"{5.665357482090354e-07:.9f}\")"
   ]
  },
  {
   "cell_type": "markdown",
   "metadata": {},
   "source": [
    "P value<0,05 olduğundan dolayı H0 hipotezini reddederiz. Web sitede geçirilen ortalama süre 190 değildir."
   ]
  },
  {
   "cell_type": "markdown",
   "metadata": {},
   "source": [
    "## Non Parametrik Tek Örneklem T Testi"
   ]
  },
  {
   "cell_type": "code",
   "execution_count": 147,
   "metadata": {
    "ExecuteTime": {
     "end_time": "2020-06-13T16:55:26.510968Z",
     "start_time": "2020-06-13T16:55:26.507017Z"
    }
   },
   "outputs": [],
   "source": [
    "from statsmodels.stats.descriptivestats import sign_test"
   ]
  },
  {
   "cell_type": "code",
   "execution_count": 148,
   "metadata": {
    "ExecuteTime": {
     "end_time": "2020-06-13T16:55:37.292570Z",
     "start_time": "2020-06-13T16:55:37.278620Z"
    }
   },
   "outputs": [
    {
     "data": {
      "text/plain": [
       "(-17.0, 2.0377698612961117e-06)"
      ]
     },
     "execution_count": 148,
     "metadata": {},
     "output_type": "execute_result"
    }
   ],
   "source": [
    "sign_test(olcum,190)"
   ]
  },
  {
   "cell_type": "markdown",
   "metadata": {},
   "source": [
    "Bu teste göre p value<0,5 olduğu için H0 reddedilir fakat örnek olması açısından aynı veriyi kullandık,verimizin parametrik testini zaten yapmıştık.O yüzden bu test sonucu dikkate alınmamalıdır. Non parametrik sign test dışında başka birçok test de aynı ihtiyacı karşılayabilir."
   ]
  },
  {
   "cell_type": "markdown",
   "metadata": {},
   "source": [
    "## Tek Örneklem Oran Testi"
   ]
  },
  {
   "cell_type": "markdown",
   "metadata": {},
   "source": [
    "Oransal bir ifade test edilmek istenirse kullanılabilir. n>30 büyükse bu test kullanılabilir."
   ]
  },
  {
   "cell_type": "markdown",
   "metadata": {},
   "source": [
    "![title](oransal.png)"
   ]
  },
  {
   "cell_type": "markdown",
   "metadata": {},
   "source": [
    "Örneğin bir e-ticaret sitesinde sepete atılan ürünler ve bu sepete atılan ürünlerden kaç tanesinin satın alındığını incelemiş olalım.100 kişi bir ürünü sepete atmış ama 20 tanesi satın almışsa bu durumda dönüşüm oranı 20/100=0,2 olacaktır.Daha önce dönüşüm oranı olarak 0,110 elde edilmiş ve kontrol edilmek isteniyor olsun.\n",
    "\n",
    "H0:  p=0.110\n",
    "\n",
    "H1: p!=0.100"
   ]
  },
  {
   "cell_type": "code",
   "execution_count": 149,
   "metadata": {
    "ExecuteTime": {
     "end_time": "2020-06-13T17:23:03.623810Z",
     "start_time": "2020-06-13T17:23:03.619797Z"
    }
   },
   "outputs": [],
   "source": [
    "from statsmodels.stats.proportion import proportions_ztest"
   ]
  },
  {
   "cell_type": "code",
   "execution_count": 150,
   "metadata": {
    "ExecuteTime": {
     "end_time": "2020-06-13T17:23:04.326947Z",
     "start_time": "2020-06-13T17:23:04.319964Z"
    }
   },
   "outputs": [
    {
     "data": {
      "text/plain": [
       "(2.25, 0.02444894531008939)"
      ]
     },
     "execution_count": 150,
     "metadata": {},
     "output_type": "execute_result"
    }
   ],
   "source": [
    "proportions_ztest(20, 100, 0.110)  #(başarı sayısı,gözlem sayısı,test edilmek istenen değer)"
   ]
  },
  {
   "cell_type": "markdown",
   "metadata": {},
   "source": [
    "Test istatistiği değeri 2.25, p-value ise 0.02 olarak bulundu. Bu durumda H0 hipotezi reddedilir. Dönüşüm oranı 0.110^dan farklıdır.İstatistiksel olarak %95 güvenle bunu ifade etmiş olduk."
   ]
  },
  {
   "cell_type": "markdown",
   "metadata": {},
   "source": [
    "## Bağımsız İki Örneklem T Testi"
   ]
  },
  {
   "cell_type": "markdown",
   "metadata": {},
   "source": [
    "İki grubun ortalaması arasında karşılaştırma yapılmak istenirse kullanılabilir. A/B Testi olarak da bilinir. Elimizde  iki farklı ana kütleye ait ortalamalar olduğunu düşünelim. Bu ortalamaların birbirinden farkını elde ettiğimiz örneklemlerle inceleriz. Gerçekte bilmediğimiz ana kütlenin değerlerine ilişkin bir farkın istatistiksel olarak olup olmadığını incelenir.\n",
    "\n",
    "* Örnek sayıları aynı,varyanslar homojen\n",
    "\n",
    "* Örnek sayısı farklı,varyanslar homojen\n",
    "\n",
    "* Örnek sayıları farklı, varyanslar homojen değil\n",
    "\n",
    "Bu üç durumda da farklı formüller kullanılır.Son iki durumda örnek sayıları eşitse de hesaplamalar yapılabilir.\n",
    "\n",
    "**Varsayımlar**\n",
    "\n",
    "* Normallik\n",
    "* Varyans Homojenliği"
   ]
  },
  {
   "cell_type": "code",
   "execution_count": 26,
   "metadata": {
    "ExecuteTime": {
     "end_time": "2020-06-14T10:38:19.415009Z",
     "start_time": "2020-06-14T10:38:19.405038Z"
    }
   },
   "outputs": [],
   "source": [
    "A = pd.DataFrame([20,37,24,21,25,30,20,20,29,33,36,23,28,24,25,27,24,27,24,\n",
    "        26,20,16,26,24,30,26,24,20,18,25])\n",
    "\n",
    "B = pd.DataFrame([33,39,37,34,21,26,23,32,29,28,39,18,35,39,32,36,36,34,22,\n",
    "        32,35,31,31,33,33,31,24,33,31,28])\n",
    "\n",
    "\n",
    "A_B = pd.concat([A, B], axis = 1)\n",
    "A_B.columns=[\"A\",\"B\"]"
   ]
  },
  {
   "cell_type": "code",
   "execution_count": 27,
   "metadata": {
    "ExecuteTime": {
     "end_time": "2020-06-14T10:38:19.714118Z",
     "start_time": "2020-06-14T10:38:19.706138Z"
    }
   },
   "outputs": [
    {
     "data": {
      "text/html": [
       "<div>\n",
       "<style scoped>\n",
       "    .dataframe tbody tr th:only-of-type {\n",
       "        vertical-align: middle;\n",
       "    }\n",
       "\n",
       "    .dataframe tbody tr th {\n",
       "        vertical-align: top;\n",
       "    }\n",
       "\n",
       "    .dataframe thead th {\n",
       "        text-align: right;\n",
       "    }\n",
       "</style>\n",
       "<table border=\"1\" class=\"dataframe\">\n",
       "  <thead>\n",
       "    <tr style=\"text-align: right;\">\n",
       "      <th></th>\n",
       "      <th>A</th>\n",
       "      <th>B</th>\n",
       "    </tr>\n",
       "  </thead>\n",
       "  <tbody>\n",
       "    <tr>\n",
       "      <td>0</td>\n",
       "      <td>20</td>\n",
       "      <td>33</td>\n",
       "    </tr>\n",
       "    <tr>\n",
       "      <td>1</td>\n",
       "      <td>37</td>\n",
       "      <td>39</td>\n",
       "    </tr>\n",
       "    <tr>\n",
       "      <td>2</td>\n",
       "      <td>24</td>\n",
       "      <td>37</td>\n",
       "    </tr>\n",
       "    <tr>\n",
       "      <td>3</td>\n",
       "      <td>21</td>\n",
       "      <td>34</td>\n",
       "    </tr>\n",
       "    <tr>\n",
       "      <td>4</td>\n",
       "      <td>25</td>\n",
       "      <td>21</td>\n",
       "    </tr>\n",
       "  </tbody>\n",
       "</table>\n",
       "</div>"
      ],
      "text/plain": [
       "    A   B\n",
       "0  20  33\n",
       "1  37  39\n",
       "2  24  37\n",
       "3  21  34\n",
       "4  25  21"
      ]
     },
     "execution_count": 27,
     "metadata": {},
     "output_type": "execute_result"
    }
   ],
   "source": [
    "A_B.head()"
   ]
  },
  {
   "cell_type": "code",
   "execution_count": 28,
   "metadata": {
    "ExecuteTime": {
     "end_time": "2020-06-14T10:38:19.987585Z",
     "start_time": "2020-06-14T10:38:19.976616Z"
    }
   },
   "outputs": [],
   "source": [
    "GRUP_A = np.arange(len(A))\n",
    "GRUP_A = pd.DataFrame(GRUP_A)\n",
    "GRUP_A[:] = \"A\"\n",
    "A = pd.concat([A, GRUP_A], axis = 1)\n",
    "\n",
    "\n",
    "GRUP_B = np.arange(len(B))\n",
    "GRUP_B = pd.DataFrame(GRUP_B)\n",
    "GRUP_B[:] = \"B\"\n",
    "B = pd.concat([B, GRUP_B], axis = 1)\n",
    "\n",
    "\n",
    "AB = pd.concat([A,B])\n",
    "AB.columns = [\"gelir\",\"GRUP\"]"
   ]
  },
  {
   "cell_type": "code",
   "execution_count": 29,
   "metadata": {
    "ExecuteTime": {
     "end_time": "2020-06-14T10:38:20.598334Z",
     "start_time": "2020-06-14T10:38:20.590358Z"
    }
   },
   "outputs": [
    {
     "data": {
      "text/html": [
       "<div>\n",
       "<style scoped>\n",
       "    .dataframe tbody tr th:only-of-type {\n",
       "        vertical-align: middle;\n",
       "    }\n",
       "\n",
       "    .dataframe tbody tr th {\n",
       "        vertical-align: top;\n",
       "    }\n",
       "\n",
       "    .dataframe thead th {\n",
       "        text-align: right;\n",
       "    }\n",
       "</style>\n",
       "<table border=\"1\" class=\"dataframe\">\n",
       "  <thead>\n",
       "    <tr style=\"text-align: right;\">\n",
       "      <th></th>\n",
       "      <th>gelir</th>\n",
       "      <th>GRUP</th>\n",
       "    </tr>\n",
       "  </thead>\n",
       "  <tbody>\n",
       "    <tr>\n",
       "      <td>5</td>\n",
       "      <td>30</td>\n",
       "      <td>A</td>\n",
       "    </tr>\n",
       "    <tr>\n",
       "      <td>6</td>\n",
       "      <td>23</td>\n",
       "      <td>B</td>\n",
       "    </tr>\n",
       "    <tr>\n",
       "      <td>29</td>\n",
       "      <td>28</td>\n",
       "      <td>B</td>\n",
       "    </tr>\n",
       "    <tr>\n",
       "      <td>6</td>\n",
       "      <td>20</td>\n",
       "      <td>A</td>\n",
       "    </tr>\n",
       "    <tr>\n",
       "      <td>16</td>\n",
       "      <td>24</td>\n",
       "      <td>A</td>\n",
       "    </tr>\n",
       "  </tbody>\n",
       "</table>\n",
       "</div>"
      ],
      "text/plain": [
       "    gelir GRUP\n",
       "5      30    A\n",
       "6      23    B\n",
       "29     28    B\n",
       "6      20    A\n",
       "16     24    A"
      ]
     },
     "execution_count": 29,
     "metadata": {},
     "output_type": "execute_result"
    }
   ],
   "source": [
    "AB.sample(5)"
   ]
  },
  {
   "cell_type": "code",
   "execution_count": 30,
   "metadata": {
    "ExecuteTime": {
     "end_time": "2020-06-14T10:38:21.134276Z",
     "start_time": "2020-06-14T10:38:20.952728Z"
    }
   },
   "outputs": [
    {
     "data": {
      "text/plain": [
       "<seaborn.axisgrid.FacetGrid at 0x19d6d86be08>"
      ]
     },
     "execution_count": 30,
     "metadata": {},
     "output_type": "execute_result"
    },
    {
     "data": {
      "image/png": "[encoded data removed]",
      "text/plain": [
       "<Figure size 360x360 with 1 Axes>"
      ]
     },
     "metadata": {
      "needs_background": "light"
     },
     "output_type": "display_data"
    }
   ],
   "source": [
    "sns.catplot(x=\"GRUP\",y=\"gelir\",data=AB,kind=\"box\")"
   ]
  },
  {
   "cell_type": "markdown",
   "metadata": {
    "ExecuteTime": {
     "end_time": "2020-06-14T10:47:26.683881Z",
     "start_time": "2020-06-14T10:47:26.678894Z"
    }
   },
   "source": [
    "**H0** : Eski yeni gelirler arasında istatistiksel olarak anlamlı bir fark yoktur.\n",
    "\n",
    "**H1** : Eski yeni gelirler arasında istatistiksel olarak anlamlı bir fark vardır."
   ]
  },
  {
   "cell_type": "code",
   "execution_count": 33,
   "metadata": {
    "ExecuteTime": {
     "end_time": "2020-06-14T10:38:26.376276Z",
     "start_time": "2020-06-14T10:38:26.371315Z"
    }
   },
   "outputs": [
    {
     "data": {
      "text/plain": [
       "(0.951647162437439, 0.18710334599018097)"
      ]
     },
     "execution_count": 33,
     "metadata": {},
     "output_type": "execute_result"
    }
   ],
   "source": [
    "from scipy.stats import shapiro\n",
    "shapiro(A_B.A) # A normallik #H0 reddedilmez"
   ]
  },
  {
   "cell_type": "code",
   "execution_count": 32,
   "metadata": {
    "ExecuteTime": {
     "end_time": "2020-06-14T10:38:23.640559Z",
     "start_time": "2020-06-14T10:38:23.635572Z"
    }
   },
   "outputs": [
    {
     "data": {
      "text/plain": [
       "(0.9384799003601074, 0.08278060704469681)"
      ]
     },
     "execution_count": 32,
     "metadata": {},
     "output_type": "execute_result"
    }
   ],
   "source": [
    "shapiro(A_B.B) #B normallik #H0 reddedilmez"
   ]
  },
  {
   "cell_type": "markdown",
   "metadata": {},
   "source": [
    "**H0** : Varyanslar homojen.\n",
    "\n",
    "**H1** : Varyanslar homojen değildir."
   ]
  },
  {
   "cell_type": "code",
   "execution_count": 37,
   "metadata": {
    "ExecuteTime": {
     "end_time": "2020-06-14T10:40:50.841272Z",
     "start_time": "2020-06-14T10:40:50.826270Z"
    }
   },
   "outputs": [
    {
     "data": {
      "text/plain": [
       "LeveneResult(statistic=0.23150684931506824, pvalue=0.6322190341001741)"
      ]
     },
     "execution_count": 37,
     "metadata": {},
     "output_type": "execute_result"
    }
   ],
   "source": [
    "stats.levene(A_B.A, A_B.B) #varyans homojenliği için test"
   ]
  },
  {
   "cell_type": "markdown",
   "metadata": {},
   "source": [
    "P>0.05 olduğu için H0 reddedilemez ve varyanslar homojendir."
   ]
  },
  {
   "cell_type": "code",
   "execution_count": 39,
   "metadata": {
    "ExecuteTime": {
     "end_time": "2020-06-14T10:43:54.973622Z",
     "start_time": "2020-06-14T10:43:54.966641Z"
    }
   },
   "outputs": [
    {
     "data": {
      "text/plain": [
       "Ttest_indResult(statistic=-4.567083365467413, pvalue=2.6286107085806983e-05)"
      ]
     },
     "execution_count": 39,
     "metadata": {},
     "output_type": "execute_result"
    }
   ],
   "source": [
    "stats.ttest_ind(A_B[\"A\"], A_B[\"B\"], equal_var = True) #Bağımsız iki örneklem t testi, equal_var : varsayım testi sağlandı True"
   ]
  },
  {
   "cell_type": "markdown",
   "metadata": {},
   "source": [
    "p<0,05 olduğu için \"anakütle ortalamaları birbirine eşittir\" diyen H0 hipotezi reddedilir."
   ]
  },
  {
   "cell_type": "markdown",
   "metadata": {},
   "source": [
    "## Non Parametrik Bağımsız İki Örneklem T Testi"
   ]
  },
  {
   "cell_type": "markdown",
   "metadata": {},
   "source": [
    "Aynı örnekle nonparametrik t testi işlemi gerçekleştirelim."
   ]
  },
  {
   "cell_type": "code",
   "execution_count": 42,
   "metadata": {
    "ExecuteTime": {
     "end_time": "2020-06-14T10:50:13.357117Z",
     "start_time": "2020-06-14T10:50:13.350161Z"
    }
   },
   "outputs": [
    {
     "data": {
      "text/plain": [
       "MannwhitneyuResult(statistic=184.0, pvalue=4.191188725973341e-05)"
      ]
     },
     "execution_count": 42,
     "metadata": {},
     "output_type": "execute_result"
    }
   ],
   "source": [
    "stats.mannwhitneyu(A_B[\"A\"], A_B[\"B\"]) #p<0.05 H0 reddedilir."
   ]
  },
  {
   "cell_type": "markdown",
   "metadata": {},
   "source": [
    "## Bağımlı İki Örneklem T Testi"
   ]
  },
  {
   "cell_type": "markdown",
   "metadata": {},
   "source": [
    "Bağımlı iki grup ortalaması arasında karşılaştırma yapılmak istenirse kullanılabilir."
   ]
  },
  {
   "cell_type": "markdown",
   "metadata": {},
   "source": [
    "Örneğin bir şirkette eğitim gerçekleştiriliyor ve bu eğitimden önceki ve sonraki durum arasındaki fark test edilmek isteniyor.\n",
    "\n",
    "**Varsayımlar**\n",
    "\n",
    "Normallik (Normale yakın da olsa kabul görebilir.)\n",
    "\n",
    "Varyans Homojenliği\n",
    "\n",
    "**H0**: Eğitimden önceki performans ortalaması ile eğitimden sonraki perdormans ortalaması arasında bir fark yoktur.\n",
    "\n",
    "**H1** : Eğitimden önceki performans ortalaması ile eğitimden sonraki perdormans ortalaması arasında bir fark vardır."
   ]
  },
  {
   "cell_type": "code",
   "execution_count": 50,
   "metadata": {
    "ExecuteTime": {
     "end_time": "2020-06-14T11:01:41.674511Z",
     "start_time": "2020-06-14T11:01:41.665517Z"
    }
   },
   "outputs": [],
   "source": [
    "oncesi = pd.DataFrame([123,119,119,116,123,123,121,120,117,118,121,121,123,119,\n",
    "            121,118,124,121,125,115,115,119,118,121,117,117,120,120,\n",
    "            121,117,118,117,123,118,124,121,115,118,125,115])\n",
    "\n",
    "sonrasi = pd.DataFrame([118,127,122,132,129,123,129,132,128,130,128,138,140,130,\n",
    "             134,134,124,140,134,129,129,138,134,124,122,126,133,127,\n",
    "             130,130,130,132,117,130,125,129,133,120,127,123])"
   ]
  },
  {
   "cell_type": "code",
   "execution_count": 51,
   "metadata": {
    "ExecuteTime": {
     "end_time": "2020-06-14T11:01:41.843828Z",
     "start_time": "2020-06-14T11:01:41.835870Z"
    }
   },
   "outputs": [
    {
     "data": {
      "text/html": [
       "<div>\n",
       "<style scoped>\n",
       "    .dataframe tbody tr th:only-of-type {\n",
       "        vertical-align: middle;\n",
       "    }\n",
       "\n",
       "    .dataframe tbody tr th {\n",
       "        vertical-align: top;\n",
       "    }\n",
       "\n",
       "    .dataframe thead th {\n",
       "        text-align: right;\n",
       "    }\n",
       "</style>\n",
       "<table border=\"1\" class=\"dataframe\">\n",
       "  <thead>\n",
       "    <tr style=\"text-align: right;\">\n",
       "      <th></th>\n",
       "      <th>0</th>\n",
       "    </tr>\n",
       "  </thead>\n",
       "  <tbody>\n",
       "    <tr>\n",
       "      <td>0</td>\n",
       "      <td>123</td>\n",
       "    </tr>\n",
       "    <tr>\n",
       "      <td>1</td>\n",
       "      <td>119</td>\n",
       "    </tr>\n",
       "    <tr>\n",
       "      <td>2</td>\n",
       "      <td>119</td>\n",
       "    </tr>\n",
       "    <tr>\n",
       "      <td>3</td>\n",
       "      <td>116</td>\n",
       "    </tr>\n",
       "    <tr>\n",
       "      <td>4</td>\n",
       "      <td>123</td>\n",
       "    </tr>\n",
       "  </tbody>\n",
       "</table>\n",
       "</div>"
      ],
      "text/plain": [
       "     0\n",
       "0  123\n",
       "1  119\n",
       "2  119\n",
       "3  116\n",
       "4  123"
      ]
     },
     "execution_count": 51,
     "metadata": {},
     "output_type": "execute_result"
    }
   ],
   "source": [
    "oncesi.head()"
   ]
  },
  {
   "cell_type": "code",
   "execution_count": 52,
   "metadata": {
    "ExecuteTime": {
     "end_time": "2020-06-14T11:01:42.031591Z",
     "start_time": "2020-06-14T11:01:42.024611Z"
    }
   },
   "outputs": [
    {
     "data": {
      "text/html": [
       "<div>\n",
       "<style scoped>\n",
       "    .dataframe tbody tr th:only-of-type {\n",
       "        vertical-align: middle;\n",
       "    }\n",
       "\n",
       "    .dataframe tbody tr th {\n",
       "        vertical-align: top;\n",
       "    }\n",
       "\n",
       "    .dataframe thead th {\n",
       "        text-align: right;\n",
       "    }\n",
       "</style>\n",
       "<table border=\"1\" class=\"dataframe\">\n",
       "  <thead>\n",
       "    <tr style=\"text-align: right;\">\n",
       "      <th></th>\n",
       "      <th>0</th>\n",
       "    </tr>\n",
       "  </thead>\n",
       "  <tbody>\n",
       "    <tr>\n",
       "      <td>0</td>\n",
       "      <td>118</td>\n",
       "    </tr>\n",
       "    <tr>\n",
       "      <td>1</td>\n",
       "      <td>127</td>\n",
       "    </tr>\n",
       "    <tr>\n",
       "      <td>2</td>\n",
       "      <td>122</td>\n",
       "    </tr>\n",
       "    <tr>\n",
       "      <td>3</td>\n",
       "      <td>132</td>\n",
       "    </tr>\n",
       "    <tr>\n",
       "      <td>4</td>\n",
       "      <td>129</td>\n",
       "    </tr>\n",
       "  </tbody>\n",
       "</table>\n",
       "</div>"
      ],
      "text/plain": [
       "     0\n",
       "0  118\n",
       "1  127\n",
       "2  122\n",
       "3  132\n",
       "4  129"
      ]
     },
     "execution_count": 52,
     "metadata": {},
     "output_type": "execute_result"
    }
   ],
   "source": [
    "sonrasi.head()"
   ]
  },
  {
   "cell_type": "code",
   "execution_count": 53,
   "metadata": {
    "ExecuteTime": {
     "end_time": "2020-06-14T11:01:42.278197Z",
     "start_time": "2020-06-14T11:01:42.265219Z"
    }
   },
   "outputs": [],
   "source": [
    "AYRIK = pd.concat([oncesi, sonrasi], axis = 1)\n",
    "AYRIK.columns = [\"ONCESI\",\"SONRASI\"]\n",
    "\n",
    "GRUP_ONCESI = np.arange(len(oncesi))\n",
    "GRUP_ONCESI = pd.DataFrame(GRUP_ONCESI)\n",
    "GRUP_ONCESI[:] = \"ONCESI\"\n",
    "\n",
    "A = pd.concat([oncesi, GRUP_ONCESI], axis = 1)\n",
    "\n",
    "\n",
    "GRUP_SONRASI = np.arange(len(sonrasi))\n",
    "GRUP_SONRASI = pd.DataFrame(GRUP_SONRASI)\n",
    "GRUP_SONRASI[:] = \"SONRASI\"\n",
    "\n",
    "\n",
    "B = pd.concat([sonrasi, GRUP_SONRASI], axis = 1)\n",
    "\n",
    "\n",
    "BIRLIKTE = pd.concat([A,B])\n",
    "BIRLIKTE\n",
    "\n",
    "\n",
    "BIRLIKTE.columns = [\"PERFORMANS\",\"ONCESI_SONRASI\"]"
   ]
  },
  {
   "cell_type": "code",
   "execution_count": 54,
   "metadata": {
    "ExecuteTime": {
     "end_time": "2020-06-14T11:01:58.431314Z",
     "start_time": "2020-06-14T11:01:58.423362Z"
    }
   },
   "outputs": [
    {
     "data": {
      "text/html": [
       "<div>\n",
       "<style scoped>\n",
       "    .dataframe tbody tr th:only-of-type {\n",
       "        vertical-align: middle;\n",
       "    }\n",
       "\n",
       "    .dataframe tbody tr th {\n",
       "        vertical-align: top;\n",
       "    }\n",
       "\n",
       "    .dataframe thead th {\n",
       "        text-align: right;\n",
       "    }\n",
       "</style>\n",
       "<table border=\"1\" class=\"dataframe\">\n",
       "  <thead>\n",
       "    <tr style=\"text-align: right;\">\n",
       "      <th></th>\n",
       "      <th>ONCESI</th>\n",
       "      <th>SONRASI</th>\n",
       "    </tr>\n",
       "  </thead>\n",
       "  <tbody>\n",
       "    <tr>\n",
       "      <td>0</td>\n",
       "      <td>123</td>\n",
       "      <td>118</td>\n",
       "    </tr>\n",
       "    <tr>\n",
       "      <td>1</td>\n",
       "      <td>119</td>\n",
       "      <td>127</td>\n",
       "    </tr>\n",
       "    <tr>\n",
       "      <td>2</td>\n",
       "      <td>119</td>\n",
       "      <td>122</td>\n",
       "    </tr>\n",
       "    <tr>\n",
       "      <td>3</td>\n",
       "      <td>116</td>\n",
       "      <td>132</td>\n",
       "    </tr>\n",
       "    <tr>\n",
       "      <td>4</td>\n",
       "      <td>123</td>\n",
       "      <td>129</td>\n",
       "    </tr>\n",
       "  </tbody>\n",
       "</table>\n",
       "</div>"
      ],
      "text/plain": [
       "   ONCESI  SONRASI\n",
       "0     123      118\n",
       "1     119      127\n",
       "2     119      122\n",
       "3     116      132\n",
       "4     123      129"
      ]
     },
     "execution_count": 54,
     "metadata": {},
     "output_type": "execute_result"
    }
   ],
   "source": [
    "AYRIK.head()"
   ]
  },
  {
   "cell_type": "code",
   "execution_count": 55,
   "metadata": {
    "ExecuteTime": {
     "end_time": "2020-06-14T11:02:11.812699Z",
     "start_time": "2020-06-14T11:02:11.803733Z"
    }
   },
   "outputs": [
    {
     "data": {
      "text/html": [
       "<div>\n",
       "<style scoped>\n",
       "    .dataframe tbody tr th:only-of-type {\n",
       "        vertical-align: middle;\n",
       "    }\n",
       "\n",
       "    .dataframe tbody tr th {\n",
       "        vertical-align: top;\n",
       "    }\n",
       "\n",
       "    .dataframe thead th {\n",
       "        text-align: right;\n",
       "    }\n",
       "</style>\n",
       "<table border=\"1\" class=\"dataframe\">\n",
       "  <thead>\n",
       "    <tr style=\"text-align: right;\">\n",
       "      <th></th>\n",
       "      <th>0</th>\n",
       "    </tr>\n",
       "  </thead>\n",
       "  <tbody>\n",
       "    <tr>\n",
       "      <td>0</td>\n",
       "      <td>ONCESI</td>\n",
       "    </tr>\n",
       "    <tr>\n",
       "      <td>1</td>\n",
       "      <td>ONCESI</td>\n",
       "    </tr>\n",
       "    <tr>\n",
       "      <td>2</td>\n",
       "      <td>ONCESI</td>\n",
       "    </tr>\n",
       "    <tr>\n",
       "      <td>3</td>\n",
       "      <td>ONCESI</td>\n",
       "    </tr>\n",
       "    <tr>\n",
       "      <td>4</td>\n",
       "      <td>ONCESI</td>\n",
       "    </tr>\n",
       "  </tbody>\n",
       "</table>\n",
       "</div>"
      ],
      "text/plain": [
       "        0\n",
       "0  ONCESI\n",
       "1  ONCESI\n",
       "2  ONCESI\n",
       "3  ONCESI\n",
       "4  ONCESI"
      ]
     },
     "execution_count": 55,
     "metadata": {},
     "output_type": "execute_result"
    }
   ],
   "source": [
    "GRUP_ONCESI.head()"
   ]
  },
  {
   "cell_type": "code",
   "execution_count": 57,
   "metadata": {
    "ExecuteTime": {
     "end_time": "2020-06-14T11:02:38.265526Z",
     "start_time": "2020-06-14T11:02:38.257551Z"
    }
   },
   "outputs": [
    {
     "data": {
      "text/html": [
       "<div>\n",
       "<style scoped>\n",
       "    .dataframe tbody tr th:only-of-type {\n",
       "        vertical-align: middle;\n",
       "    }\n",
       "\n",
       "    .dataframe tbody tr th {\n",
       "        vertical-align: top;\n",
       "    }\n",
       "\n",
       "    .dataframe thead th {\n",
       "        text-align: right;\n",
       "    }\n",
       "</style>\n",
       "<table border=\"1\" class=\"dataframe\">\n",
       "  <thead>\n",
       "    <tr style=\"text-align: right;\">\n",
       "      <th></th>\n",
       "      <th>0</th>\n",
       "    </tr>\n",
       "  </thead>\n",
       "  <tbody>\n",
       "    <tr>\n",
       "      <td>0</td>\n",
       "      <td>SONRASI</td>\n",
       "    </tr>\n",
       "    <tr>\n",
       "      <td>1</td>\n",
       "      <td>SONRASI</td>\n",
       "    </tr>\n",
       "    <tr>\n",
       "      <td>2</td>\n",
       "      <td>SONRASI</td>\n",
       "    </tr>\n",
       "    <tr>\n",
       "      <td>3</td>\n",
       "      <td>SONRASI</td>\n",
       "    </tr>\n",
       "    <tr>\n",
       "      <td>4</td>\n",
       "      <td>SONRASI</td>\n",
       "    </tr>\n",
       "  </tbody>\n",
       "</table>\n",
       "</div>"
      ],
      "text/plain": [
       "         0\n",
       "0  SONRASI\n",
       "1  SONRASI\n",
       "2  SONRASI\n",
       "3  SONRASI\n",
       "4  SONRASI"
      ]
     },
     "execution_count": 57,
     "metadata": {},
     "output_type": "execute_result"
    }
   ],
   "source": [
    "GRUP_SONRASI.head()"
   ]
  },
  {
   "cell_type": "code",
   "execution_count": 58,
   "metadata": {
    "ExecuteTime": {
     "end_time": "2020-06-14T11:02:49.912342Z",
     "start_time": "2020-06-14T11:02:49.903320Z"
    }
   },
   "outputs": [
    {
     "data": {
      "text/html": [
       "<div>\n",
       "<style scoped>\n",
       "    .dataframe tbody tr th:only-of-type {\n",
       "        vertical-align: middle;\n",
       "    }\n",
       "\n",
       "    .dataframe tbody tr th {\n",
       "        vertical-align: top;\n",
       "    }\n",
       "\n",
       "    .dataframe thead th {\n",
       "        text-align: right;\n",
       "    }\n",
       "</style>\n",
       "<table border=\"1\" class=\"dataframe\">\n",
       "  <thead>\n",
       "    <tr style=\"text-align: right;\">\n",
       "      <th></th>\n",
       "      <th>PERFORMANS</th>\n",
       "      <th>ONCESI_SONRASI</th>\n",
       "    </tr>\n",
       "  </thead>\n",
       "  <tbody>\n",
       "    <tr>\n",
       "      <td>0</td>\n",
       "      <td>123</td>\n",
       "      <td>ONCESI</td>\n",
       "    </tr>\n",
       "    <tr>\n",
       "      <td>1</td>\n",
       "      <td>119</td>\n",
       "      <td>ONCESI</td>\n",
       "    </tr>\n",
       "    <tr>\n",
       "      <td>2</td>\n",
       "      <td>119</td>\n",
       "      <td>ONCESI</td>\n",
       "    </tr>\n",
       "    <tr>\n",
       "      <td>3</td>\n",
       "      <td>116</td>\n",
       "      <td>ONCESI</td>\n",
       "    </tr>\n",
       "    <tr>\n",
       "      <td>4</td>\n",
       "      <td>123</td>\n",
       "      <td>ONCESI</td>\n",
       "    </tr>\n",
       "  </tbody>\n",
       "</table>\n",
       "</div>"
      ],
      "text/plain": [
       "   PERFORMANS ONCESI_SONRASI\n",
       "0         123         ONCESI\n",
       "1         119         ONCESI\n",
       "2         119         ONCESI\n",
       "3         116         ONCESI\n",
       "4         123         ONCESI"
      ]
     },
     "execution_count": 58,
     "metadata": {},
     "output_type": "execute_result"
    }
   ],
   "source": [
    "BIRLIKTE.head()"
   ]
  },
  {
   "cell_type": "code",
   "execution_count": 60,
   "metadata": {
    "ExecuteTime": {
     "end_time": "2020-06-14T11:04:12.935211Z",
     "start_time": "2020-06-14T11:04:12.729750Z"
    }
   },
   "outputs": [
    {
     "data": {
      "text/plain": [
       "<seaborn.axisgrid.FacetGrid at 0x19d6d8e5e88>"
      ]
     },
     "execution_count": 60,
     "metadata": {},
     "output_type": "execute_result"
    },
    {
     "data": {
      "image/png": "[encoded data removed]",
      "text/plain": [
       "<Figure size 360x360 with 1 Axes>"
      ]
     },
     "metadata": {
      "needs_background": "light"
     },
     "output_type": "display_data"
    }
   ],
   "source": [
    "sns.catplot(x=\"ONCESI_SONRASI\",y=\"PERFORMANS\",data=BIRLIKTE,kind=\"box\")"
   ]
  },
  {
   "cell_type": "code",
   "execution_count": 64,
   "metadata": {
    "ExecuteTime": {
     "end_time": "2020-06-14T11:08:06.280769Z",
     "start_time": "2020-06-14T11:08:06.275770Z"
    }
   },
   "outputs": [
    {
     "data": {
      "text/plain": [
       "(0.9543656706809998, 0.10722451657056808)"
      ]
     },
     "execution_count": 64,
     "metadata": {},
     "output_type": "execute_result"
    }
   ],
   "source": [
    "shapiro(AYRIK.ONCESI) #p>0.05 H0 reddedilmez #normallik testi"
   ]
  },
  {
   "cell_type": "code",
   "execution_count": 65,
   "metadata": {
    "ExecuteTime": {
     "end_time": "2020-06-14T11:08:06.629377Z",
     "start_time": "2020-06-14T11:08:06.623404Z"
    }
   },
   "outputs": [
    {
     "data": {
      "text/plain": [
       "(0.9780089259147644, 0.6159515380859375)"
      ]
     },
     "execution_count": 65,
     "metadata": {},
     "output_type": "execute_result"
    }
   ],
   "source": [
    "shapiro(AYRIK.SONRASI) #p>0.05 H0 reddedilmez"
   ]
  },
  {
   "cell_type": "code",
   "execution_count": 66,
   "metadata": {
    "ExecuteTime": {
     "end_time": "2020-06-14T11:08:07.170719Z",
     "start_time": "2020-06-14T11:08:07.162742Z"
    }
   },
   "outputs": [
    {
     "data": {
      "text/plain": [
       "LeveneResult(statistic=8.31303288672351, pvalue=0.0050844511807370246)"
      ]
     },
     "execution_count": 66,
     "metadata": {},
     "output_type": "execute_result"
    }
   ],
   "source": [
    "stats.levene(AYRIK.ONCESI, AYRIK.SONRASI) #varyans homojenliğini test ettik p<0.05 H0 reddedilir. 2. Varsayım Sağlanmadı."
   ]
  },
  {
   "cell_type": "markdown",
   "metadata": {},
   "source": [
    "Varyans homojenliği varsayımı sağlanmadı. Bu durumda aykırı gözlemlerle ilgili düzenlemeye gidilebilir ya da bazı durumlarda dikkate alınmayabilir. Örnek olması açısından varsayımın sağlandığını kabul edip hipotez testini gerçekleştirelim."
   ]
  },
  {
   "cell_type": "code",
   "execution_count": 67,
   "metadata": {
    "ExecuteTime": {
     "end_time": "2020-06-14T11:13:42.662468Z",
     "start_time": "2020-06-14T11:13:42.656498Z"
    }
   },
   "outputs": [
    {
     "data": {
      "text/plain": [
       "Ttest_relResult(statistic=-9.281533480429937, pvalue=2.0235251764440722e-11)"
      ]
     },
     "execution_count": 67,
     "metadata": {},
     "output_type": "execute_result"
    }
   ],
   "source": [
    "stats.ttest_rel(AYRIK.ONCESI, AYRIK.SONRASI)"
   ]
  },
  {
   "cell_type": "markdown",
   "metadata": {},
   "source": [
    "p<0,05 olduğu için H0 hipotezi reddedilir. Eğitimden önceki performans ortalaması ile eğitimden sonraki perdormans ortalaması arasında istatistiki olarak % 95 güven aralığında anlamlı bir fark vardır."
   ]
  },
  {
   "cell_type": "markdown",
   "metadata": {},
   "source": [
    "## Nonparametrik Bağımlı İki Örneklem T Testi"
   ]
  },
  {
   "cell_type": "code",
   "execution_count": 69,
   "metadata": {
    "ExecuteTime": {
     "end_time": "2020-06-14T11:18:52.666005Z",
     "start_time": "2020-06-14T11:18:52.660008Z"
    }
   },
   "outputs": [
    {
     "data": {
      "text/plain": [
       "WilcoxonResult(statistic=15.0, pvalue=2.491492033374464e-07)"
      ]
     },
     "execution_count": 69,
     "metadata": {},
     "output_type": "execute_result"
    }
   ],
   "source": [
    "stats.wilcoxon(AYRIK.ONCESI, AYRIK.SONRASI) #p<0,05 H0 hipotezi reddedilir"
   ]
  },
  {
   "cell_type": "markdown",
   "metadata": {},
   "source": [
    "## İki Örneklem Oran Testi"
   ]
  },
  {
   "cell_type": "markdown",
   "metadata": {},
   "source": [
    "İki oran arasında karşılaştırma yapmak için kullanılır. n1>30 ve n2>30 olmalı."
   ]
  },
  {
   "cell_type": "code",
   "execution_count": 72,
   "metadata": {
    "ExecuteTime": {
     "end_time": "2020-06-14T11:29:22.075465Z",
     "start_time": "2020-06-14T11:29:22.070504Z"
    }
   },
   "outputs": [],
   "source": [
    "from statsmodels.stats.proportion import proportions_ztest"
   ]
  },
  {
   "cell_type": "markdown",
   "metadata": {},
   "source": [
    "İki web tasarımı olduğunu varsayalım. Yeşil rengin mi yoksa kırmızı rengin mi kullanılması gerektiğine karar verelim"
   ]
  },
  {
   "cell_type": "markdown",
   "metadata": {},
   "source": [
    "Yeşil butonu 1000 kişi görüntülemiş ve 300 tıklama gerçekleşmiş.Kırmızı butonu ise 1100 kişi görüntülemiş ve 250 tıklama gerçekleşmiş.\n",
    "\n",
    "**H0** : p1=p2\n",
    "\n",
    "**H1** : p1!=p2"
   ]
  },
  {
   "cell_type": "code",
   "execution_count": 73,
   "metadata": {
    "ExecuteTime": {
     "end_time": "2020-06-14T11:33:15.407018Z",
     "start_time": "2020-06-14T11:33:15.403037Z"
    }
   },
   "outputs": [],
   "source": [
    "import numpy as np\n",
    "basari_sayisi = np.array([300, 250])\n",
    "gozlem_sayilari = np.array([1000, 1100])"
   ]
  },
  {
   "cell_type": "code",
   "execution_count": 74,
   "metadata": {
    "ExecuteTime": {
     "end_time": "2020-06-14T11:34:14.561018Z",
     "start_time": "2020-06-14T11:34:14.555031Z"
    }
   },
   "outputs": [
    {
     "data": {
      "text/plain": [
       "(3.7857863233209255, 0.0001532232957772221)"
      ]
     },
     "execution_count": 74,
     "metadata": {},
     "output_type": "execute_result"
    }
   ],
   "source": [
    "proportions_ztest(count = basari_sayisi, nobs = gozlem_sayilari)"
   ]
  },
  {
   "cell_type": "markdown",
   "metadata": {},
   "source": [
    "p<0.05 olduğu için iki dönüşüm oranı arasında anlamlı bir fark vardır. Yeşil buton tercih edilir."
   ]
  },
  {
   "cell_type": "markdown",
   "metadata": {},
   "source": [
    "## Varyans Analizi (ANOVA)"
   ]
  },
  {
   "cell_type": "markdown",
   "metadata": {},
   "source": [
    "Grup ortalamaları ve bunlara bağlı olan işlemleri analiz etmek için kullanılan bir istatistiksel modeller koleksiyonudur. Gruplar arası ortalama hata ya da değişkenliğinin, grup içi ortalama hataya bölünmesiyle F istatistiği olarak ifade edilen değer bulunur.İkiden fazla grup olduğunda kullanılabilir.\n",
    "\n",
    "**Varsayımlar**\n",
    "\n",
    "* Grupların birbirinden bağımsız olması\n",
    "* Normal dağılım\n",
    "* Varyans homojenliği\n",
    "\n",
    "H0 : Grup ortalamaları arasında istatistiksel olarak anlamlı bir fark yoktur.\n",
    "\n",
    "H1 : Grup ortalamaları arasında istatistiksel olarak anlamlı bir fark vardır.\n"
   ]
  },
  {
   "cell_type": "markdown",
   "metadata": {},
   "source": [
    "3 farklı kargo şirketine ait elimizde teslim süreleri olduğunu düşünelim. Ortalama sipariş süresi düşük olanın daha hızlı teslim yaptığını söylemek doğru olmaz. Böyle bir genellemenin yapılması doğru değildir. Şimdi örneğimizi yapalım."
   ]
  },
  {
   "cell_type": "code",
   "execution_count": 85,
   "metadata": {
    "ExecuteTime": {
     "end_time": "2020-06-14T12:25:59.072645Z",
     "start_time": "2020-06-14T12:25:59.063643Z"
    }
   },
   "outputs": [],
   "source": [
    "ABC=pd.DataFrame({\"A\":[22,19,18,21,19,30,16,13,24,26,22,20,30,17,24,25,14,16,21,20,29,26,27,13,25,25,32,22,33,38],\n",
    "                  \"B\":[17,21,19,15,19,25,22,33,28,28,24,26,29,13,17,15,13,14,30,25,24,13,38,32,10,12,15,19,30,31],\n",
    "                  \"C\":[18,20,16,14,24,24,28,26,24,23,29,30,16,13,39,32,32,12,18,15,23,32,34,21,20,20,14,14,16,17]})\n"
   ]
  },
  {
   "cell_type": "code",
   "execution_count": 87,
   "metadata": {
    "ExecuteTime": {
     "end_time": "2020-06-14T12:27:10.857338Z",
     "start_time": "2020-06-14T12:27:10.851320Z"
    }
   },
   "outputs": [
    {
     "data": {
      "text/plain": [
       "(0.9773266315460205, 0.7509013414382935)"
      ]
     },
     "execution_count": 87,
     "metadata": {},
     "output_type": "execute_result"
    }
   ],
   "source": [
    "from scipy.stats import shapiro\n",
    "shapiro(ABC.A)"
   ]
  },
  {
   "cell_type": "code",
   "execution_count": 88,
   "metadata": {
    "ExecuteTime": {
     "end_time": "2020-06-14T12:27:19.664178Z",
     "start_time": "2020-06-14T12:27:19.659186Z"
    }
   },
   "outputs": [
    {
     "data": {
      "text/plain": [
       "(0.9559324383735657, 0.2429838329553604)"
      ]
     },
     "execution_count": 88,
     "metadata": {},
     "output_type": "execute_result"
    }
   ],
   "source": [
    "shapiro(ABC.B) #normallik varsayımı"
   ]
  },
  {
   "cell_type": "code",
   "execution_count": 89,
   "metadata": {
    "ExecuteTime": {
     "end_time": "2020-06-14T12:27:27.878835Z",
     "start_time": "2020-06-14T12:27:27.871869Z"
    }
   },
   "outputs": [
    {
     "data": {
      "text/plain": [
       "(0.9428073167800903, 0.10826785117387772)"
      ]
     },
     "execution_count": 89,
     "metadata": {},
     "output_type": "execute_result"
    }
   ],
   "source": [
    "shapiro(ABC.C)"
   ]
  },
  {
   "cell_type": "code",
   "execution_count": 92,
   "metadata": {
    "ExecuteTime": {
     "end_time": "2020-06-14T12:28:41.478700Z",
     "start_time": "2020-06-14T12:28:41.471718Z"
    }
   },
   "outputs": [
    {
     "data": {
      "text/plain": [
       "LeveneResult(statistic=1.3094952823124166, pvalue=0.27522343223527845)"
      ]
     },
     "execution_count": 92,
     "metadata": {},
     "output_type": "execute_result"
    }
   ],
   "source": [
    "stats.levene(ABC.A, ABC.B, ABC.C) #Varyans homojenliği varsayımı # p>0.05 H0 reddedemeyiz. Varyanslar homojendir."
   ]
  },
  {
   "cell_type": "code",
   "execution_count": 95,
   "metadata": {
    "ExecuteTime": {
     "end_time": "2020-06-14T12:31:00.790692Z",
     "start_time": "2020-06-14T12:31:00.783714Z"
    }
   },
   "outputs": [
    {
     "data": {
      "text/plain": [
       "F_onewayResult(statistic=0.16908620390387075, pvalue=0.844712935488465)"
      ]
     },
     "execution_count": 95,
     "metadata": {},
     "output_type": "execute_result"
    }
   ],
   "source": [
    "from scipy.stats import f_oneway\n",
    "f_oneway(ABC.A,ABC.B,ABC.C) # p>0.05 H0 reddedilmez. Grup ortalamaları arasında anlamlı bir fark yoktur."
   ]
  },
  {
   "cell_type": "code",
   "execution_count": 96,
   "metadata": {
    "ExecuteTime": {
     "end_time": "2020-06-14T12:34:06.410505Z",
     "start_time": "2020-06-14T12:34:06.402567Z"
    }
   },
   "outputs": [
    {
     "name": "stdout",
     "output_type": "stream",
     "text": [
      "0.84471\n"
     ]
    }
   ],
   "source": [
    "print('{:.5f}'.format(f_oneway(ABC.A, ABC.B, ABC.C)[1]))"
   ]
  },
  {
   "cell_type": "markdown",
   "metadata": {},
   "source": [
    "Eğer ortalamalar arasında fark olduğuna kanaat getirmiş olsaydık Tukey testi ile  farkın kaynağını bulmaya çalışabilirdik."
   ]
  },
  {
   "cell_type": "code",
   "execution_count": 97,
   "metadata": {
    "ExecuteTime": {
     "end_time": "2020-06-14T12:34:25.225657Z",
     "start_time": "2020-06-14T12:34:25.191749Z"
    }
   },
   "outputs": [
    {
     "data": {
      "text/html": [
       "<div>\n",
       "<style scoped>\n",
       "    .dataframe tbody tr th:only-of-type {\n",
       "        vertical-align: middle;\n",
       "    }\n",
       "\n",
       "    .dataframe tbody tr th {\n",
       "        vertical-align: top;\n",
       "    }\n",
       "\n",
       "    .dataframe thead th {\n",
       "        text-align: right;\n",
       "    }\n",
       "</style>\n",
       "<table border=\"1\" class=\"dataframe\">\n",
       "  <thead>\n",
       "    <tr style=\"text-align: right;\">\n",
       "      <th></th>\n",
       "      <th>count</th>\n",
       "      <th>mean</th>\n",
       "      <th>std</th>\n",
       "      <th>min</th>\n",
       "      <th>25%</th>\n",
       "      <th>50%</th>\n",
       "      <th>75%</th>\n",
       "      <th>max</th>\n",
       "    </tr>\n",
       "  </thead>\n",
       "  <tbody>\n",
       "    <tr>\n",
       "      <td>A</td>\n",
       "      <td>30.0</td>\n",
       "      <td>22.900000</td>\n",
       "      <td>6.127102</td>\n",
       "      <td>13.0</td>\n",
       "      <td>19.0</td>\n",
       "      <td>22.0</td>\n",
       "      <td>26.0</td>\n",
       "      <td>38.0</td>\n",
       "    </tr>\n",
       "    <tr>\n",
       "      <td>B</td>\n",
       "      <td>30.0</td>\n",
       "      <td>21.900000</td>\n",
       "      <td>7.484927</td>\n",
       "      <td>10.0</td>\n",
       "      <td>15.0</td>\n",
       "      <td>21.5</td>\n",
       "      <td>28.0</td>\n",
       "      <td>38.0</td>\n",
       "    </tr>\n",
       "    <tr>\n",
       "      <td>C</td>\n",
       "      <td>30.0</td>\n",
       "      <td>22.133333</td>\n",
       "      <td>7.219386</td>\n",
       "      <td>12.0</td>\n",
       "      <td>16.0</td>\n",
       "      <td>20.5</td>\n",
       "      <td>27.5</td>\n",
       "      <td>39.0</td>\n",
       "    </tr>\n",
       "  </tbody>\n",
       "</table>\n",
       "</div>"
      ],
      "text/plain": [
       "   count       mean       std   min   25%   50%   75%   max\n",
       "A   30.0  22.900000  6.127102  13.0  19.0  22.0  26.0  38.0\n",
       "B   30.0  21.900000  7.484927  10.0  15.0  21.5  28.0  38.0\n",
       "C   30.0  22.133333  7.219386  12.0  16.0  20.5  27.5  39.0"
      ]
     },
     "execution_count": 97,
     "metadata": {},
     "output_type": "execute_result"
    }
   ],
   "source": [
    "ABC.describe().T"
   ]
  },
  {
   "cell_type": "markdown",
   "metadata": {},
   "source": [
    "## Nonparametrik Varyans Analizi"
   ]
  },
  {
   "cell_type": "code",
   "execution_count": 99,
   "metadata": {
    "ExecuteTime": {
     "end_time": "2020-06-14T12:38:25.758531Z",
     "start_time": "2020-06-14T12:38:25.755512Z"
    }
   },
   "outputs": [],
   "source": [
    "from scipy.stats import kruskal #kruskal-wallis testi"
   ]
  },
  {
   "cell_type": "markdown",
   "metadata": {},
   "source": [
    "Normallik ve varyans homojenliği varsayımlarının sağlanmadığını varsayalım"
   ]
  },
  {
   "cell_type": "code",
   "execution_count": 101,
   "metadata": {
    "ExecuteTime": {
     "end_time": "2020-06-14T12:39:20.301629Z",
     "start_time": "2020-06-14T12:39:20.294659Z"
    }
   },
   "outputs": [
    {
     "data": {
      "text/plain": [
       "KruskalResult(statistic=0.5629391248858203, pvalue=0.7546738857551857)"
      ]
     },
     "execution_count": 101,
     "metadata": {},
     "output_type": "execute_result"
    }
   ],
   "source": [
    "kruskal(ABC.A,ABC.B,ABC.C) # p>0.05 H0 hipotezi kabul edilir."
   ]
  },
  {
   "cell_type": "markdown",
   "metadata": {},
   "source": [
    "## Korelasyon Analizi"
   ]
  },
  {
   "cell_type": "markdown",
   "metadata": {},
   "source": [
    "Değişkenler arasındaki ilişki,ilişkinin yönü ve şiddeti ile ilgili bilgiler sağlayan bir yöntemdir."
   ]
  },
  {
   "cell_type": "markdown",
   "metadata": {},
   "source": [
    "![title](kore.png)"
   ]
  },
  {
   "cell_type": "markdown",
   "metadata": {},
   "source": [
    "1- mükemmel pozitif korelasyon\n",
    "\n",
    "0.9 - yüksek pozitif korelasyon\n",
    "\n",
    "0.5 - düşük pozitif korelasyon\n",
    "\n",
    "-0.5 - düşük negatif korelasyon\n",
    "\n",
    "-0.9 - yüksek negatif korelasyon\n",
    "\n",
    "-1 - mükemmel negatif korelasyon"
   ]
  },
  {
   "cell_type": "code",
   "execution_count": 114,
   "metadata": {
    "ExecuteTime": {
     "end_time": "2020-06-14T12:51:24.586087Z",
     "start_time": "2020-06-14T12:51:24.550184Z"
    }
   },
   "outputs": [
    {
     "data": {
      "text/html": [
       "<div>\n",
       "<style scoped>\n",
       "    .dataframe tbody tr th:only-of-type {\n",
       "        vertical-align: middle;\n",
       "    }\n",
       "\n",
       "    .dataframe tbody tr th {\n",
       "        vertical-align: top;\n",
       "    }\n",
       "\n",
       "    .dataframe thead th {\n",
       "        text-align: right;\n",
       "    }\n",
       "</style>\n",
       "<table border=\"1\" class=\"dataframe\">\n",
       "  <thead>\n",
       "    <tr style=\"text-align: right;\">\n",
       "      <th></th>\n",
       "      <th>total_bill</th>\n",
       "      <th>tip</th>\n",
       "      <th>sex</th>\n",
       "      <th>smoker</th>\n",
       "      <th>day</th>\n",
       "      <th>time</th>\n",
       "      <th>size</th>\n",
       "    </tr>\n",
       "  </thead>\n",
       "  <tbody>\n",
       "    <tr>\n",
       "      <td>0</td>\n",
       "      <td>16.99</td>\n",
       "      <td>1.01</td>\n",
       "      <td>Female</td>\n",
       "      <td>No</td>\n",
       "      <td>Sun</td>\n",
       "      <td>Dinner</td>\n",
       "      <td>2</td>\n",
       "    </tr>\n",
       "    <tr>\n",
       "      <td>1</td>\n",
       "      <td>10.34</td>\n",
       "      <td>1.66</td>\n",
       "      <td>Male</td>\n",
       "      <td>No</td>\n",
       "      <td>Sun</td>\n",
       "      <td>Dinner</td>\n",
       "      <td>3</td>\n",
       "    </tr>\n",
       "    <tr>\n",
       "      <td>2</td>\n",
       "      <td>21.01</td>\n",
       "      <td>3.50</td>\n",
       "      <td>Male</td>\n",
       "      <td>No</td>\n",
       "      <td>Sun</td>\n",
       "      <td>Dinner</td>\n",
       "      <td>3</td>\n",
       "    </tr>\n",
       "    <tr>\n",
       "      <td>3</td>\n",
       "      <td>23.68</td>\n",
       "      <td>3.31</td>\n",
       "      <td>Male</td>\n",
       "      <td>No</td>\n",
       "      <td>Sun</td>\n",
       "      <td>Dinner</td>\n",
       "      <td>2</td>\n",
       "    </tr>\n",
       "    <tr>\n",
       "      <td>4</td>\n",
       "      <td>24.59</td>\n",
       "      <td>3.61</td>\n",
       "      <td>Female</td>\n",
       "      <td>No</td>\n",
       "      <td>Sun</td>\n",
       "      <td>Dinner</td>\n",
       "      <td>4</td>\n",
       "    </tr>\n",
       "  </tbody>\n",
       "</table>\n",
       "</div>"
      ],
      "text/plain": [
       "   total_bill   tip     sex smoker  day    time  size\n",
       "0       16.99  1.01  Female     No  Sun  Dinner     2\n",
       "1       10.34  1.66    Male     No  Sun  Dinner     3\n",
       "2       21.01  3.50    Male     No  Sun  Dinner     3\n",
       "3       23.68  3.31    Male     No  Sun  Dinner     2\n",
       "4       24.59  3.61  Female     No  Sun  Dinner     4"
      ]
     },
     "execution_count": 114,
     "metadata": {},
     "output_type": "execute_result"
    }
   ],
   "source": [
    "tips = sns.load_dataset('tips')\n",
    "df = tips.copy()\n",
    "df.head()"
   ]
  },
  {
   "cell_type": "markdown",
   "metadata": {},
   "source": [
    "Bahşiş ile ödenen hesap arasında korelasyon olup olmadığını inceleyelim.\n",
    "\n",
    "**H0** : P=0 Değişkenler arasında korelasyon yoktur.\n",
    "\n",
    "**H1** : P!=0 Değişkenler arasında anlamlı bir ilişki vardır."
   ]
  },
  {
   "cell_type": "code",
   "execution_count": 115,
   "metadata": {
    "ExecuteTime": {
     "end_time": "2020-06-14T12:58:28.740700Z",
     "start_time": "2020-06-14T12:58:28.703799Z"
    }
   },
   "outputs": [],
   "source": [
    "df[\"total_bill\"] = df[\"total_bill\"] - df[\"tip\"] #bahşiş ve vergiler dahildi."
   ]
  },
  {
   "cell_type": "code",
   "execution_count": 119,
   "metadata": {
    "ExecuteTime": {
     "end_time": "2020-06-14T13:00:13.241317Z",
     "start_time": "2020-06-14T13:00:13.022886Z"
    }
   },
   "outputs": [
    {
     "data": {
      "text/plain": [
       "<seaborn.axisgrid.FacetGrid at 0x19d72675788>"
      ]
     },
     "execution_count": 119,
     "metadata": {},
     "output_type": "execute_result"
    },
    {
     "data": {
      "image/png": "[encoded data removed]",
      "text/plain": [
       "<Figure size 360x360 with 1 Axes>"
      ]
     },
     "metadata": {
      "needs_background": "light"
     },
     "output_type": "display_data"
    }
   ],
   "source": [
    "sns.relplot(x=\"tip\",y=\"total_bill\",data=df,kind=\"scatter\")"
   ]
  },
  {
   "cell_type": "code",
   "execution_count": 125,
   "metadata": {
    "ExecuteTime": {
     "end_time": "2020-06-14T13:01:37.093645Z",
     "start_time": "2020-06-14T13:01:37.088713Z"
    }
   },
   "outputs": [
    {
     "data": {
      "text/plain": [
       "(0.897811233997345, 8.20057563521992e-12)"
      ]
     },
     "execution_count": 125,
     "metadata": {},
     "output_type": "execute_result"
    }
   ],
   "source": [
    "shapiro(df[\"tip\"]) #p<0.05 #normallik varsayımı sağlanmadı"
   ]
  },
  {
   "cell_type": "code",
   "execution_count": 124,
   "metadata": {
    "ExecuteTime": {
     "end_time": "2020-06-14T13:01:22.691629Z",
     "start_time": "2020-06-14T13:01:22.685632Z"
    }
   },
   "outputs": [
    {
     "data": {
      "text/plain": [
       "(0.9135652184486389, 1.1060377613780759e-10)"
      ]
     },
     "execution_count": 124,
     "metadata": {},
     "output_type": "execute_result"
    }
   ],
   "source": [
    "shapiro(df[\"total_bill\"]) #p<0.05 #normallik varsayımı sağlanmadı"
   ]
  },
  {
   "cell_type": "code",
   "execution_count": 132,
   "metadata": {
    "ExecuteTime": {
     "end_time": "2020-06-14T13:54:44.217738Z",
     "start_time": "2020-06-14T13:54:44.211757Z"
    }
   },
   "outputs": [
    {
     "data": {
      "text/plain": [
       "0.5766634471096374"
      ]
     },
     "execution_count": 132,
     "metadata": {},
     "output_type": "execute_result"
    }
   ],
   "source": [
    "df[\"tip\"].corr(df[\"total_bill\"]) #normallik varsayımı sağlandığında pearson katsayısı kullanılabilir."
   ]
  },
  {
   "cell_type": "code",
   "execution_count": 133,
   "metadata": {
    "ExecuteTime": {
     "end_time": "2020-06-14T13:56:38.754495Z",
     "start_time": "2020-06-14T13:56:38.745473Z"
    }
   },
   "outputs": [
    {
     "data": {
      "text/plain": [
       "0.593691939408997"
      ]
     },
     "execution_count": 133,
     "metadata": {},
     "output_type": "execute_result"
    }
   ],
   "source": [
    "df[\"tip\"].corr(df[\"total_bill\"],method=\"spearman\") #orta şiddetli pozitif yönlü ilişki"
   ]
  },
  {
   "cell_type": "code",
   "execution_count": 128,
   "metadata": {
    "ExecuteTime": {
     "end_time": "2020-06-14T13:03:03.713643Z",
     "start_time": "2020-06-14T13:03:03.709683Z"
    }
   },
   "outputs": [],
   "source": [
    "from scipy.stats.stats import pearsonr #korelasyonun anlamlılığına bakalım."
   ]
  },
  {
   "cell_type": "code",
   "execution_count": 129,
   "metadata": {
    "ExecuteTime": {
     "end_time": "2020-06-14T13:03:17.439475Z",
     "start_time": "2020-06-14T13:03:17.429515Z"
    }
   },
   "outputs": [
    {
     "data": {
      "text/plain": [
       "(0.5766634471096381, 5.018290084948419e-23)"
      ]
     },
     "execution_count": 129,
     "metadata": {},
     "output_type": "execute_result"
    }
   ],
   "source": [
    "pearsonr(df[\"tip\"],df[\"total_bill\"])"
   ]
  },
  {
   "cell_type": "markdown",
   "metadata": {},
   "source": [
    "p<0.05 Değişkenler arasında anlamlı bir ilişki vardır(pearson'a göre).H0 reddedilir."
   ]
  },
  {
   "cell_type": "markdown",
   "metadata": {},
   "source": [
    "## Nonparametrik Korelasyon Analizi"
   ]
  },
  {
   "cell_type": "code",
   "execution_count": 135,
   "metadata": {
    "ExecuteTime": {
     "end_time": "2020-06-14T13:58:30.675146Z",
     "start_time": "2020-06-14T13:58:30.667153Z"
    }
   },
   "outputs": [
    {
     "data": {
      "text/plain": [
       "SpearmanrResult(correlation=0.593691939408997, pvalue=1.2452285137560276e-24)"
      ]
     },
     "execution_count": 135,
     "metadata": {},
     "output_type": "execute_result"
    }
   ],
   "source": [
    "from scipy.stats import stats\n",
    "stats.spearmanr(df[\"tip\"],df[\"total_bill\"])  #spearman r"
   ]
  },
  {
   "cell_type": "code",
   "execution_count": 134,
   "metadata": {
    "ExecuteTime": {
     "end_time": "2020-06-14T13:58:28.722885Z",
     "start_time": "2020-06-14T13:58:28.706916Z"
    }
   },
   "outputs": [
    {
     "data": {
      "text/plain": [
       "KendalltauResult(correlation=0.4400790074919885, pvalue=7.131027725873721e-24)"
      ]
     },
     "execution_count": 134,
     "metadata": {},
     "output_type": "execute_result"
    }
   ],
   "source": [
    "stats.kendalltau(df[\"tip\"],df[\"total_bill\"]) #kendall tau testi"
   ]
  }
 ],
 "metadata": {
  "kernelspec": {
   "display_name": "Python 3",
   "language": "python",
   "name": "python3"
  },
  "language_info": {
   "codemirror_mode": {
    "name": "ipython",
    "version": 3
   },
   "file_extension": ".py",
   "mimetype": "text/x-python",
   "name": "python",
   "nbconvert_exporter": "python",
   "pygments_lexer": "ipython3",
   "version": "3.7.4"
  },
  "toc": {
   "base_numbering": 1,
   "nav_menu": {},
   "number_sections": true,
   "sideBar": true,
   "skip_h1_title": false,
   "title_cell": "Table of Contents",
   "title_sidebar": "Contents",
   "toc_cell": false,
   "toc_position": {},
   "toc_section_display": true,
   "toc_window_display": false
  }
 },
 "nbformat": 4,
 "nbformat_minor": 2
}
